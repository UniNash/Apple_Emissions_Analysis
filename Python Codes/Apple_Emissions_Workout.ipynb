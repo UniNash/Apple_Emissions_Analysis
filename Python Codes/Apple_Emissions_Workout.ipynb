{
 "cells": [
  {
   "cell_type": "code",
   "execution_count": 27,
   "id": "0f614123-f0cf-4b38-9225-cb691fe42818",
   "metadata": {},
   "outputs": [],
   "source": [
    "import pandas as pd\n",
    "import matplotlib.pyplot as plt\n",
    "import seaborn as sns\n",
    "import numpy as np \n",
    "from sklearn.linear_model import LinearRegression"
   ]
  },
  {
   "cell_type": "code",
   "execution_count": 3,
   "id": "52660c66-393c-4714-8a32-f5be9956ca26",
   "metadata": {},
   "outputs": [],
   "source": [
    "df = pd.read_csv(r\"C:\\Users\\pryns\\OneDrive\\Desktop\\Apple_Emissions\\apple_emissions\\greenhouse_gas_emissions.csv\")"
   ]
  },
  {
   "cell_type": "code",
   "execution_count": 9,
   "id": "f10c9755-9304-41b6-8efb-197a95778427",
   "metadata": {},
   "outputs": [],
   "source": [
    "datafr = df.groupby(by  = 'Fiscal Year').sum().reset_index()[[\"Fiscal Year\",\"Emissions\"]]"
   ]
  },
  {
   "cell_type": "code",
   "execution_count": 19,
   "id": "b6780112-abe0-48c2-a8b7-59a853c9af56",
   "metadata": {},
   "outputs": [
    {
     "data": {
      "text/plain": [
       "<Axes: xlabel='Emissions', ylabel='Count'>"
      ]
     },
     "execution_count": 19,
     "metadata": {},
     "output_type": "execute_result"
    },
    {
     "data": {
      "image/png": "[encoded data removed]",
      "text/plain": [
       "<Figure size 640x480 with 1 Axes>"
      ]
     },
     "metadata": {},
     "output_type": "display_data"
    }
   ],
   "source": [
    "sns.histplot(x = datafr['Emissions'],kde = True)"
   ]
  },
  {
   "cell_type": "code",
   "execution_count": 21,
   "id": "8c4ce8b9-1cf7-41d0-925b-b2a532a9ca5d",
   "metadata": {},
   "outputs": [
    {
     "data": {
      "text/html": [
       "<div>\n",
       "<style scoped>\n",
       "    .dataframe tbody tr th:only-of-type {\n",
       "        vertical-align: middle;\n",
       "    }\n",
       "\n",
       "    .dataframe tbody tr th {\n",
       "        vertical-align: top;\n",
       "    }\n",
       "\n",
       "    .dataframe thead th {\n",
       "        text-align: right;\n",
       "    }\n",
       "</style>\n",
       "<table border=\"1\" class=\"dataframe\">\n",
       "  <thead>\n",
       "    <tr style=\"text-align: right;\">\n",
       "      <th></th>\n",
       "      <th>Fiscal Year</th>\n",
       "      <th>Emissions</th>\n",
       "    </tr>\n",
       "  </thead>\n",
       "  <tbody>\n",
       "    <tr>\n",
       "      <th>count</th>\n",
       "      <td>8.00000</td>\n",
       "      <td>8.000000e+00</td>\n",
       "    </tr>\n",
       "    <tr>\n",
       "      <th>mean</th>\n",
       "      <td>2018.50000</td>\n",
       "      <td>2.635910e+07</td>\n",
       "    </tr>\n",
       "    <tr>\n",
       "      <th>std</th>\n",
       "      <td>2.44949</td>\n",
       "      <td>5.678657e+06</td>\n",
       "    </tr>\n",
       "    <tr>\n",
       "      <th>min</th>\n",
       "      <td>2015.00000</td>\n",
       "      <td>2.027990e+07</td>\n",
       "    </tr>\n",
       "    <tr>\n",
       "      <th>25%</th>\n",
       "      <td>2016.75000</td>\n",
       "      <td>2.252318e+07</td>\n",
       "    </tr>\n",
       "    <tr>\n",
       "      <th>50%</th>\n",
       "      <td>2018.50000</td>\n",
       "      <td>2.508495e+07</td>\n",
       "    </tr>\n",
       "    <tr>\n",
       "      <th>75%</th>\n",
       "      <td>2020.25000</td>\n",
       "      <td>2.795707e+07</td>\n",
       "    </tr>\n",
       "    <tr>\n",
       "      <th>max</th>\n",
       "      <td>2022.00000</td>\n",
       "      <td>3.838347e+07</td>\n",
       "    </tr>\n",
       "  </tbody>\n",
       "</table>\n",
       "</div>"
      ],
      "text/plain": [
       "       Fiscal Year     Emissions\n",
       "count      8.00000  8.000000e+00\n",
       "mean    2018.50000  2.635910e+07\n",
       "std        2.44949  5.678657e+06\n",
       "min     2015.00000  2.027990e+07\n",
       "25%     2016.75000  2.252318e+07\n",
       "50%     2018.50000  2.508495e+07\n",
       "75%     2020.25000  2.795707e+07\n",
       "max     2022.00000  3.838347e+07"
      ]
     },
     "execution_count": 21,
     "metadata": {},
     "output_type": "execute_result"
    }
   ],
   "source": [
    "datafr.describe()"
   ]
  },
  {
   "cell_type": "code",
   "execution_count": 26,
   "id": "fd038b73-4a06-4b3d-bc9a-ac0eeae0bb19",
   "metadata": {},
   "outputs": [
    {
     "data": {
      "text/plain": [
       "2018.5"
      ]
     },
     "execution_count": 26,
     "metadata": {},
     "output_type": "execute_result"
    }
   ],
   "source": [
    "datafr.median()[0]"
   ]
  },
  {
   "cell_type": "code",
   "execution_count": 61,
   "id": "c6204b78-d5b4-4d22-a84c-46fbe9e07e55",
   "metadata": {},
   "outputs": [
    {
     "data": {
      "text/plain": [
       "Index(['Fiscal Year', 'Revenue', 'Market Capitalization', 'Employees',\n",
       "       'sales_to_mc_ratio', 'gross_emissions', 'price_to_sales_ratio',\n",
       "       'revenue_increase_pc', 'gross_pc_reduction_from_previous_year',\n",
       "       'gross_pc_reduction_from_previous_year_positive', 'increase_in_revenue',\n",
       "       'revenue_increase_baseline', 'gross_emissions_from_baseline', 'Column',\n",
       "       'increase_in_revenue_previous_year_adjust'],\n",
       "      dtype='object')"
      ]
     },
     "execution_count": 61,
     "metadata": {},
     "output_type": "execute_result"
    }
   ],
   "source": [
    "df.columns"
   ]
  },
  {
   "cell_type": "code",
   "execution_count": 135,
   "id": "8dba6482-5799-4811-b83a-ff71897ce793",
   "metadata": {},
   "outputs": [],
   "source": [
    "df_1 = df[['Fiscal Year','sales_to_mc_ratio','price_to_sales_ratio','revenue_increase_pc','gross_emissions_from_baseline','gross_pc_reduction_from_previous_year_positive']]"
   ]
  },
  {
   "cell_type": "code",
   "execution_count": 136,
   "id": "a88337ee-c6b8-402d-9294-94dede5e101c",
   "metadata": {},
   "outputs": [
    {
     "data": {
      "text/html": [
       "<div>\n",
       "<style scoped>\n",
       "    .dataframe tbody tr th:only-of-type {\n",
       "        vertical-align: middle;\n",
       "    }\n",
       "\n",
       "    .dataframe tbody tr th {\n",
       "        vertical-align: top;\n",
       "    }\n",
       "\n",
       "    .dataframe thead th {\n",
       "        text-align: right;\n",
       "    }\n",
       "</style>\n",
       "<table border=\"1\" class=\"dataframe\">\n",
       "  <thead>\n",
       "    <tr style=\"text-align: right;\">\n",
       "      <th></th>\n",
       "      <th>Fiscal Year</th>\n",
       "      <th>sales_to_mc_ratio</th>\n",
       "      <th>price_to_sales_ratio</th>\n",
       "      <th>revenue_increase_pc</th>\n",
       "      <th>gross_emissions_from_baseline</th>\n",
       "      <th>gross_pc_reduction_from_previous_year_positive</th>\n",
       "    </tr>\n",
       "  </thead>\n",
       "  <tbody>\n",
       "    <tr>\n",
       "      <th>0</th>\n",
       "      <td>2015</td>\n",
       "      <td>0.402957</td>\n",
       "      <td>2.481655</td>\n",
       "      <td>0.00</td>\n",
       "      <td>0</td>\n",
       "      <td>0</td>\n",
       "    </tr>\n",
       "    <tr>\n",
       "      <th>1</th>\n",
       "      <td>2016</td>\n",
       "      <td>0.359398</td>\n",
       "      <td>2.782428</td>\n",
       "      <td>-0.08</td>\n",
       "      <td>8804100</td>\n",
       "      <td>8804100</td>\n",
       "    </tr>\n",
       "    <tr>\n",
       "      <th>2</th>\n",
       "      <td>2017</td>\n",
       "      <td>0.309776</td>\n",
       "      <td>3.228142</td>\n",
       "      <td>0.06</td>\n",
       "      <td>10967170</td>\n",
       "      <td>2163070</td>\n",
       "    </tr>\n",
       "    <tr>\n",
       "      <th>3</th>\n",
       "      <td>2018</td>\n",
       "      <td>0.319994</td>\n",
       "      <td>3.125059</td>\n",
       "      <td>0.14</td>\n",
       "      <td>13247300</td>\n",
       "      <td>2280130</td>\n",
       "    </tr>\n",
       "    <tr>\n",
       "      <th>4</th>\n",
       "      <td>2019</td>\n",
       "      <td>0.238692</td>\n",
       "      <td>4.189504</td>\n",
       "      <td>-0.02</td>\n",
       "      <td>13349740</td>\n",
       "      <td>102440</td>\n",
       "    </tr>\n",
       "    <tr>\n",
       "      <th>5</th>\n",
       "      <td>2020</td>\n",
       "      <td>0.159602</td>\n",
       "      <td>6.265596</td>\n",
       "      <td>0.05</td>\n",
       "      <td>15789030</td>\n",
       "      <td>2439290</td>\n",
       "    </tr>\n",
       "    <tr>\n",
       "      <th>6</th>\n",
       "      <td>2021</td>\n",
       "      <td>0.149313</td>\n",
       "      <td>6.697338</td>\n",
       "      <td>0.25</td>\n",
       "      <td>15197070</td>\n",
       "      <td>591960</td>\n",
       "    </tr>\n",
       "    <tr>\n",
       "      <th>7</th>\n",
       "      <td>2022</td>\n",
       "      <td>0.158365</td>\n",
       "      <td>6.314540</td>\n",
       "      <td>0.07</td>\n",
       "      <td>17779470</td>\n",
       "      <td>2582400</td>\n",
       "    </tr>\n",
       "  </tbody>\n",
       "</table>\n",
       "</div>"
      ],
      "text/plain": [
       "   Fiscal Year  sales_to_mc_ratio  price_to_sales_ratio  revenue_increase_pc  \\\n",
       "0         2015           0.402957              2.481655                 0.00   \n",
       "1         2016           0.359398              2.782428                -0.08   \n",
       "2         2017           0.309776              3.228142                 0.06   \n",
       "3         2018           0.319994              3.125059                 0.14   \n",
       "4         2019           0.238692              4.189504                -0.02   \n",
       "5         2020           0.159602              6.265596                 0.05   \n",
       "6         2021           0.149313              6.697338                 0.25   \n",
       "7         2022           0.158365              6.314540                 0.07   \n",
       "\n",
       "   gross_emissions_from_baseline  \\\n",
       "0                              0   \n",
       "1                        8804100   \n",
       "2                       10967170   \n",
       "3                       13247300   \n",
       "4                       13349740   \n",
       "5                       15789030   \n",
       "6                       15197070   \n",
       "7                       17779470   \n",
       "\n",
       "   gross_pc_reduction_from_previous_year_positive  \n",
       "0                                               0  \n",
       "1                                         8804100  \n",
       "2                                         2163070  \n",
       "3                                         2280130  \n",
       "4                                          102440  \n",
       "5                                         2439290  \n",
       "6                                          591960  \n",
       "7                                         2582400  "
      ]
     },
     "execution_count": 136,
     "metadata": {},
     "output_type": "execute_result"
    }
   ],
   "source": [
    "df_1"
   ]
  },
  {
   "cell_type": "code",
   "execution_count": 122,
   "id": "d3caa89a-6586-450d-83d7-280c8f616453",
   "metadata": {},
   "outputs": [],
   "source": [
    "df_12 = pd.DataFrame(df_1['price_to_sales_ratio'][:7])"
   ]
  },
  {
   "cell_type": "code",
   "execution_count": 123,
   "id": "135471b8-5d8b-47ee-91b4-feb210c71e1f",
   "metadata": {},
   "outputs": [],
   "source": [
    "df_11 = pd.DataFrame(df_1[['Fiscal Year','gross_pc_reduction_from_previous_year_positive']][1:]).reset_index(drop = True)"
   ]
  },
  {
   "cell_type": "code",
   "execution_count": 124,
   "id": "a5af0626-8d7d-4d55-847d-51e503da80ff",
   "metadata": {},
   "outputs": [],
   "source": [
    "df_3 = df_11.merge(df_12,left_index = True,right_index = True)"
   ]
  },
  {
   "cell_type": "code",
   "execution_count": 125,
   "id": "c360ffe8-05e6-49d9-b5b3-a5b04da3411d",
   "metadata": {},
   "outputs": [
    {
     "data": {
      "text/html": [
       "<div>\n",
       "<style scoped>\n",
       "    .dataframe tbody tr th:only-of-type {\n",
       "        vertical-align: middle;\n",
       "    }\n",
       "\n",
       "    .dataframe tbody tr th {\n",
       "        vertical-align: top;\n",
       "    }\n",
       "\n",
       "    .dataframe thead th {\n",
       "        text-align: right;\n",
       "    }\n",
       "</style>\n",
       "<table border=\"1\" class=\"dataframe\">\n",
       "  <thead>\n",
       "    <tr style=\"text-align: right;\">\n",
       "      <th></th>\n",
       "      <th>Fiscal Year</th>\n",
       "      <th>gross_pc_reduction_from_previous_year_positive</th>\n",
       "      <th>price_to_sales_ratio</th>\n",
       "    </tr>\n",
       "  </thead>\n",
       "  <tbody>\n",
       "    <tr>\n",
       "      <th>0</th>\n",
       "      <td>2016</td>\n",
       "      <td>8804100</td>\n",
       "      <td>2.481655</td>\n",
       "    </tr>\n",
       "    <tr>\n",
       "      <th>1</th>\n",
       "      <td>2017</td>\n",
       "      <td>2163070</td>\n",
       "      <td>2.782428</td>\n",
       "    </tr>\n",
       "    <tr>\n",
       "      <th>3</th>\n",
       "      <td>2019</td>\n",
       "      <td>102440</td>\n",
       "      <td>3.125059</td>\n",
       "    </tr>\n",
       "    <tr>\n",
       "      <th>2</th>\n",
       "      <td>2018</td>\n",
       "      <td>2280130</td>\n",
       "      <td>3.228142</td>\n",
       "    </tr>\n",
       "    <tr>\n",
       "      <th>4</th>\n",
       "      <td>2020</td>\n",
       "      <td>2439290</td>\n",
       "      <td>4.189504</td>\n",
       "    </tr>\n",
       "    <tr>\n",
       "      <th>5</th>\n",
       "      <td>2021</td>\n",
       "      <td>591960</td>\n",
       "      <td>6.265596</td>\n",
       "    </tr>\n",
       "    <tr>\n",
       "      <th>6</th>\n",
       "      <td>2022</td>\n",
       "      <td>2582400</td>\n",
       "      <td>6.697338</td>\n",
       "    </tr>\n",
       "  </tbody>\n",
       "</table>\n",
       "</div>"
      ],
      "text/plain": [
       "   Fiscal Year  gross_pc_reduction_from_previous_year_positive  \\\n",
       "0         2016                                         8804100   \n",
       "1         2017                                         2163070   \n",
       "3         2019                                          102440   \n",
       "2         2018                                         2280130   \n",
       "4         2020                                         2439290   \n",
       "5         2021                                          591960   \n",
       "6         2022                                         2582400   \n",
       "\n",
       "   price_to_sales_ratio  \n",
       "0              2.481655  \n",
       "1              2.782428  \n",
       "3              3.125059  \n",
       "2              3.228142  \n",
       "4              4.189504  \n",
       "5              6.265596  \n",
       "6              6.697338  "
      ]
     },
     "execution_count": 125,
     "metadata": {},
     "output_type": "execute_result"
    }
   ],
   "source": [
    "df_3.sort_values(by = 'price_to_sales_ratio',ascending = True)"
   ]
  },
  {
   "cell_type": "code",
   "execution_count": 126,
   "id": "39c7bf64-2ffe-47d5-8756-f32421812fd6",
   "metadata": {},
   "outputs": [],
   "source": [
    "df_4 = df_3.sort_values(by = 'price_to_sales_ratio',ascending = True)"
   ]
  },
  {
   "cell_type": "code",
   "execution_count": 127,
   "id": "83d14445-f5ca-4dfe-af05-6c6aea62652a",
   "metadata": {},
   "outputs": [],
   "source": [
    "X = df_4['price_to_sales_ratio']\n",
    "Y = df_4['gross_pc_reduction_from_previous_year_positive']"
   ]
  },
  {
   "cell_type": "code",
   "execution_count": 152,
   "id": "dc732c00-a806-49ab-9ecb-a0f94aad1b7e",
   "metadata": {},
   "outputs": [],
   "source": [
    "X = (df['Employees']/df['Market Capitalization'])\n",
    "Y = df['gross_pc_reduction_from_previous_year_positive']"
   ]
  },
  {
   "cell_type": "code",
   "execution_count": 153,
   "id": "9e576327-dfb9-4b5c-8388-487aa34a1229",
   "metadata": {},
   "outputs": [
    {
     "data": {
      "text/plain": [
       "[<matplotlib.lines.Line2D at 0x1a3bdf1a910>]"
      ]
     },
     "execution_count": 153,
     "metadata": {},
     "output_type": "execute_result"
    },
    {
     "data": {
      "image/png": "[encoded data removed]",
      "text/plain": [
       "<Figure size 640x480 with 1 Axes>"
      ]
     },
     "metadata": {},
     "output_type": "display_data"
    }
   ],
   "source": [
    "plt.plot(X,Y,'.')"
   ]
  },
  {
   "cell_type": "code",
   "execution_count": 129,
   "id": "99706e0d-bad0-448f-b8db-c906778fe64a",
   "metadata": {},
   "outputs": [],
   "source": [
    "f_2order = np.polyfit(X, Y, 2) \n",
    "p_2order = np.poly1d(f_2order)\n",
    "f_3order = np.polyfit(X, Y, 3) \n",
    "p_3order = np.poly1d(f_3order)"
   ]
  },
  {
   "cell_type": "code",
   "execution_count": 65,
   "id": "f42feddd-8027-4329-832b-4c7aef5b3901",
   "metadata": {},
   "outputs": [],
   "source": [
    "X1 = df[['price_to_sales_ratio']].iloc[[1,2,3,4,6,7]]\n",
    "Y1 = df[['baseline_reduction_Rate']].iloc[[1,2,3,4,6,7]]"
   ]
  },
  {
   "cell_type": "code",
   "execution_count": 52,
   "id": "5a06d04d-3d24-4e5c-b116-88aabe262031",
   "metadata": {},
   "outputs": [],
   "source": [
    "X1 = df[['sales_to_mc_ratio']]\n",
    "Y1 = df[['reduction_rate']]"
   ]
  },
  {
   "cell_type": "code",
   "execution_count": 66,
   "id": "3c4fb9d8-e51d-48ce-adb7-7f110fd9bba0",
   "metadata": {},
   "outputs": [
    {
     "data": {
      "text/plain": [
       "<Axes: xlabel='price_to_sales_ratio', ylabel='baseline_reduction_Rate'>"
      ]
     },
     "execution_count": 66,
     "metadata": {},
     "output_type": "execute_result"
    },
    {
     "data": {
      "image/png": "[encoded data removed]",
      "text/plain": [
       "<Figure size 640x480 with 1 Axes>"
      ]
     },
     "metadata": {},
     "output_type": "display_data"
    }
   ],
   "source": [
    "sns.regplot(x = X1, y = Y1)"
   ]
  },
  {
   "cell_type": "code",
   "execution_count": 46,
   "id": "22ace913-6e8b-49c3-b62f-9350e9652e03",
   "metadata": {},
   "outputs": [],
   "source": [
    "from scipy import stats"
   ]
  },
  {
   "cell_type": "code",
   "execution_count": 67,
   "id": "fd8c8ac0-0326-40e9-bfc4-bd5af2d4fa38",
   "metadata": {},
   "outputs": [],
   "source": [
    "correlation_coefficient, p_value = stats.pearsonr(list(X1[\"price_to_sales_ratio\"]), list(Y1[\"baseline_reduction_Rate\"]))\n"
   ]
  },
  {
   "cell_type": "code",
   "execution_count": 68,
   "id": "83308533-237a-4507-af5a-d9877eae374f",
   "metadata": {},
   "outputs": [
    {
     "data": {
      "text/plain": [
       "0.029199584087799272"
      ]
     },
     "execution_count": 68,
     "metadata": {},
     "output_type": "execute_result"
    }
   ],
   "source": [
    "p_value"
   ]
  },
  {
   "cell_type": "code",
   "execution_count": 69,
   "id": "c152a282-8422-4655-8700-c8721383eaa2",
   "metadata": {},
   "outputs": [
    {
     "data": {
      "text/plain": [
       "0.8570296579387285"
      ]
     },
     "execution_count": 69,
     "metadata": {},
     "output_type": "execute_result"
    }
   ],
   "source": [
    "correlation_coefficient"
   ]
  },
  {
   "cell_type": "code",
   "execution_count": 72,
   "id": "cf93650a-77ea-46a8-81b4-f4e5f403ec4f",
   "metadata": {},
   "outputs": [
    {
     "data": {
      "text/plain": [
       "0.7344998345865741"
      ]
     },
     "execution_count": 72,
     "metadata": {},
     "output_type": "execute_result"
    }
   ],
   "source": [
    "lm = LinearRegression()\n",
    "lm.fit(X1,Y1)\n",
    "lm.score(X1, Y1)"
   ]
  },
  {
   "cell_type": "code",
   "execution_count": 24,
   "id": "0337013e-e4bc-4a75-a3b8-3de70cb8755f",
   "metadata": {},
   "outputs": [],
   "source": [
    "X2 = df[['price_to_sales_ratio']]"
   ]
  },
  {
   "cell_type": "code",
   "execution_count": 70,
   "id": "e2914f23-bb6c-46d8-a628-d61aeb4dae05",
   "metadata": {},
   "outputs": [],
   "source": [
    "Y2 = lm.predict(df[['price_to_sales_ratio']][5:6])"
   ]
  },
  {
   "cell_type": "code",
   "execution_count": 71,
   "id": "913c30f4-5885-406e-852a-03d7f9bc94f4",
   "metadata": {},
   "outputs": [
    {
     "data": {
      "text/plain": [
       "array([[41.70718326]])"
      ]
     },
     "execution_count": 71,
     "metadata": {},
     "output_type": "execute_result"
    }
   ],
   "source": [
    "Y2"
   ]
  },
  {
   "cell_type": "code",
   "execution_count": 40,
   "id": "25c709c3-63c7-44d5-8f07-8599c53bfd39",
   "metadata": {},
   "outputs": [
    {
     "data": {
      "text/plain": [
       "array(6.9)"
      ]
     },
     "execution_count": 40,
     "metadata": {},
     "output_type": "execute_result"
    }
   ],
   "source": [
    "np.array(6.9)"
   ]
  },
  {
   "cell_type": "code",
   "execution_count": 73,
   "id": "91798017-48b0-4af1-bcea-6ec1fd8e9749",
   "metadata": {},
   "outputs": [
    {
     "name": "stderr",
     "output_type": "stream",
     "text": [
      "D:\\Python_venv\\general\\Lib\\site-packages\\sklearn\\base.py:464: UserWarning: X does not have valid feature names, but LinearRegression was fitted with feature names\n",
      "  warnings.warn(\n"
     ]
    },
    {
     "data": {
      "text/plain": [
       "array([[44.7514558]])"
      ]
     },
     "execution_count": 73,
     "metadata": {},
     "output_type": "execute_result"
    }
   ],
   "source": [
    "lm.predict([[6.9]])"
   ]
  },
  {
   "cell_type": "code",
   "execution_count": 74,
   "id": "4ea8cdaf-91b0-4b72-8a52-4398484843a7",
   "metadata": {},
   "outputs": [],
   "source": [
    "a = lm.intercept_\n",
    "b = lm.coef_"
   ]
  },
  {
   "cell_type": "code",
   "execution_count": 81,
   "id": "9400bef7-bb1e-4f31-ac5f-57b47aad3e56",
   "metadata": {},
   "outputs": [
    {
     "data": {
      "text/plain": [
       "'Y =16.446 + 4.102 X'"
      ]
     },
     "execution_count": 81,
     "metadata": {},
     "output_type": "execute_result"
    }
   ],
   "source": [
    "\"Y =\" + str(round(a[0],3)) + \" + \"+ str(round(b[0][0],3)) + \" X\""
   ]
  },
  {
   "cell_type": "code",
   "execution_count": 25,
   "id": "f5f756ca-502a-42ca-90e4-2ba12002996a",
   "metadata": {},
   "outputs": [
    {
     "data": {
      "text/plain": [
       "[<matplotlib.lines.Line2D at 0x225b84dbc90>]"
      ]
     },
     "execution_count": 25,
     "metadata": {},
     "output_type": "execute_result"
    },
    {
     "data": {
      "image/png": "[encoded data removed]",
      "text/plain": [
       "<Figure size 640x480 with 1 Axes>"
      ]
     },
     "metadata": {},
     "output_type": "display_data"
    }
   ],
   "source": [
    "plt.plot(X1,Y1,'.')\n",
    "plt.plot(X2,Y2,'-')"
   ]
  },
  {
   "cell_type": "code",
   "execution_count": 26,
   "id": "d9b32504-47c3-49b6-af2d-ebeab4418a4d",
   "metadata": {},
   "outputs": [
    {
     "data": {
      "text/html": [
       "<div>\n",
       "<style scoped>\n",
       "    .dataframe tbody tr th:only-of-type {\n",
       "        vertical-align: middle;\n",
       "    }\n",
       "\n",
       "    .dataframe tbody tr th {\n",
       "        vertical-align: top;\n",
       "    }\n",
       "\n",
       "    .dataframe thead th {\n",
       "        text-align: right;\n",
       "    }\n",
       "</style>\n",
       "<table border=\"1\" class=\"dataframe\">\n",
       "  <thead>\n",
       "    <tr style=\"text-align: right;\">\n",
       "      <th></th>\n",
       "      <th>baseline_reduction_Rate</th>\n",
       "    </tr>\n",
       "  </thead>\n",
       "  <tbody>\n",
       "    <tr>\n",
       "      <th>1</th>\n",
       "      <td>22.937217</td>\n",
       "    </tr>\n",
       "    <tr>\n",
       "      <th>2</th>\n",
       "      <td>28.572638</td>\n",
       "    </tr>\n",
       "    <tr>\n",
       "      <th>3</th>\n",
       "      <td>34.513034</td>\n",
       "    </tr>\n",
       "    <tr>\n",
       "      <th>4</th>\n",
       "      <td>34.779920</td>\n",
       "    </tr>\n",
       "    <tr>\n",
       "      <th>6</th>\n",
       "      <td>39.592747</td>\n",
       "    </tr>\n",
       "    <tr>\n",
       "      <th>7</th>\n",
       "      <td>46.320643</td>\n",
       "    </tr>\n",
       "  </tbody>\n",
       "</table>\n",
       "</div>"
      ],
      "text/plain": [
       "   baseline_reduction_Rate\n",
       "1                22.937217\n",
       "2                28.572638\n",
       "3                34.513034\n",
       "4                34.779920\n",
       "6                39.592747\n",
       "7                46.320643"
      ]
     },
     "execution_count": 26,
     "metadata": {},
     "output_type": "execute_result"
    }
   ],
   "source": [
    "Y1"
   ]
  },
  {
   "cell_type": "code",
   "execution_count": 27,
   "id": "a9a668ac-2560-4936-9c8f-7176c2a919b2",
   "metadata": {},
   "outputs": [
    {
     "data": {
      "text/plain": [
       "array([[26.62618556],\n",
       "       [27.86003953],\n",
       "       [29.6884829 ],\n",
       "       [29.26560557],\n",
       "       [33.63225313],\n",
       "       [42.14895427],\n",
       "       [43.92007929],\n",
       "       [42.34973808]])"
      ]
     },
     "execution_count": 27,
     "metadata": {},
     "output_type": "execute_result"
    }
   ],
   "source": [
    "Y2"
   ]
  },
  {
   "cell_type": "code",
   "execution_count": 17,
   "id": "1d18fc8c-b083-430a-a00a-7576520da87a",
   "metadata": {},
   "outputs": [],
   "source": [
    "X = dain_sorted['sales_to_mc_ratio'][1:]\n",
    "Y = dain_sorted['gross_emissions_from_baseline'][0:7]"
   ]
  },
  {
   "cell_type": "code",
   "execution_count": 19,
   "id": "6de153ad-737a-40c2-9bd0-cf89a16c2001",
   "metadata": {},
   "outputs": [
    {
     "data": {
      "text/plain": [
       "1    0.158365\n",
       "2    0.159602\n",
       "3    0.238692\n",
       "4    0.309776\n",
       "5    0.319994\n",
       "6    0.359398\n",
       "7    0.402957\n",
       "Name: sales_to_mc_ratio, dtype: float64"
      ]
     },
     "execution_count": 19,
     "metadata": {},
     "output_type": "execute_result"
    }
   ],
   "source": [
    "X"
   ]
  },
  {
   "cell_type": "code",
   "execution_count": 84,
   "id": "e81b0ced-3bc0-49ab-87e9-dd22a61c7f4a",
   "metadata": {},
   "outputs": [],
   "source": []
  },
  {
   "cell_type": "code",
   "execution_count": 20,
   "id": "610514be-524a-4f1b-9ac0-af580c52b86a",
   "metadata": {},
   "outputs": [],
   "source": [
    "import numpy as np"
   ]
  },
  {
   "cell_type": "code",
   "execution_count": 21,
   "id": "c447eaea-5bf2-4375-89d2-5b9dd08a9db5",
   "metadata": {},
   "outputs": [],
   "source": [
    "f_2order = np.polyfit(X, Y, 2) "
   ]
  },
  {
   "cell_type": "code",
   "execution_count": 22,
   "id": "398e0db1-ee3a-4625-9d53-2cb4aeede21c",
   "metadata": {},
   "outputs": [
    {
     "data": {
      "text/plain": [
       "array([-81446783.3723708 ,  16346953.99405621,  15990786.64020414])"
      ]
     },
     "execution_count": 22,
     "metadata": {},
     "output_type": "execute_result"
    }
   ],
   "source": [
    "f_2order"
   ]
  },
  {
   "cell_type": "code",
   "execution_count": 23,
   "id": "a7c5ff12-87c2-495d-af6a-d00d0e91e185",
   "metadata": {},
   "outputs": [],
   "source": [
    "p_2order = np.poly1d(f_2order)"
   ]
  },
  {
   "cell_type": "code",
   "execution_count": 24,
   "id": "7d29bb12-f878-437b-bb76-0e8a7a780d43",
   "metadata": {},
   "outputs": [
    {
     "data": {
      "text/plain": [
       "poly1d([-81446783.3723708 ,  16346953.99405621,  15990786.64020414])"
      ]
     },
     "execution_count": 24,
     "metadata": {},
     "output_type": "execute_result"
    }
   ],
   "source": [
    "p_2order"
   ]
  },
  {
   "cell_type": "code",
   "execution_count": 25,
   "id": "63b4d140-b889-4a9d-91d1-9ac62596be11",
   "metadata": {},
   "outputs": [],
   "source": [
    "f_3order = np.polyfit(X, Y, 3) "
   ]
  },
  {
   "cell_type": "code",
   "execution_count": 26,
   "id": "3a417b5b-94fc-44ff-ab31-f45e2a1afe0d",
   "metadata": {},
   "outputs": [
    {
     "data": {
      "text/plain": [
       "array([ -4786546.72167687, -77383143.7469142 ,  15259148.6368755 ,\n",
       "        16080822.67346279])"
      ]
     },
     "execution_count": 26,
     "metadata": {},
     "output_type": "execute_result"
    }
   ],
   "source": [
    "f_3order"
   ]
  },
  {
   "cell_type": "code",
   "execution_count": 27,
   "id": "0378dd2e-ba03-4620-93b0-ecd869b41b46",
   "metadata": {},
   "outputs": [],
   "source": [
    "p_3order = np.poly1d(f_3order)"
   ]
  },
  {
   "cell_type": "code",
   "execution_count": null,
   "id": "b7e2e84b-90e2-4478-abff-37bff53dfada",
   "metadata": {},
   "outputs": [],
   "source": []
  },
  {
   "cell_type": "code",
   "execution_count": 28,
   "id": "fe2be96a-36d3-49e5-badc-8d823d0c92ae",
   "metadata": {},
   "outputs": [],
   "source": [
    "f_4order = np.polyfit(X, Y, 4) "
   ]
  },
  {
   "cell_type": "code",
   "execution_count": 29,
   "id": "7821fe6d-7ae8-45ce-bc50-9a959ad4d3f7",
   "metadata": {},
   "outputs": [
    {
     "data": {
      "text/plain": [
       "array([-6.47264518e+10,  7.36167528e+10, -3.04286689e+10,  5.36272575e+09,\n",
       "       -3.21482386e+08])"
      ]
     },
     "execution_count": 29,
     "metadata": {},
     "output_type": "execute_result"
    }
   ],
   "source": [
    "f_4order"
   ]
  },
  {
   "cell_type": "code",
   "execution_count": 30,
   "id": "7b066d7b-4577-4ddd-9141-8166892c7408",
   "metadata": {},
   "outputs": [],
   "source": [
    "p_4order = np.poly1d(f_4order)"
   ]
  },
  {
   "cell_type": "code",
   "execution_count": null,
   "id": "ee578285-c850-495d-b798-573f3bbd5d0d",
   "metadata": {},
   "outputs": [],
   "source": []
  },
  {
   "cell_type": "code",
   "execution_count": 31,
   "id": "a8fc1231-2127-4158-b778-a3fb3bcebf35",
   "metadata": {},
   "outputs": [],
   "source": [
    "import matplotlib.pyplot as plt"
   ]
  },
  {
   "cell_type": "code",
   "execution_count": 70,
   "id": "51140243-ec9a-4fec-ac91-59b307dd1627",
   "metadata": {},
   "outputs": [],
   "source": [
    "X = np.sort(X)"
   ]
  },
  {
   "cell_type": "code",
   "execution_count": 35,
   "id": "0abd9793-66cd-462d-8c15-21c9bdbd3bc6",
   "metadata": {},
   "outputs": [
    {
     "data": {
      "text/plain": [
       "[<matplotlib.lines.Line2D at 0x1a3b158b110>]"
      ]
     },
     "execution_count": 35,
     "metadata": {},
     "output_type": "execute_result"
    },
    {
     "data": {
      "image/png": "[encoded data removed]",
      "text/plain": [
       "<Figure size 640x480 with 1 Axes>"
      ]
     },
     "metadata": {},
     "output_type": "display_data"
    }
   ],
   "source": [
    "plt.plot(X,Y,'.')\n",
    "plt.plot(X,p_2order(X),'-')\n",
    "plt.plot(X,p_3order(X),'-')\n",
    "#plt.plot(X,p_4order(X),'-')"
   ]
  },
  {
   "cell_type": "code",
   "execution_count": 53,
   "id": "854c6468-1f28-4b06-9a6a-a306975ab9a9",
   "metadata": {},
   "outputs": [],
   "source": [
    "x1 = [0.42,0.45,0.48,0.5,0.8]"
   ]
  },
  {
   "cell_type": "code",
   "execution_count": 54,
   "id": "e3e2817a-c54f-4096-8ccf-641ee09ba654",
   "metadata": {},
   "outputs": [],
   "source": [
    "x2 = list(X).copy()"
   ]
  },
  {
   "cell_type": "code",
   "execution_count": 55,
   "id": "b688e164-c5bd-4f39-b6dc-30a20b12be92",
   "metadata": {},
   "outputs": [],
   "source": [
    "x2.extend(x1)"
   ]
  },
  {
   "cell_type": "code",
   "execution_count": 41,
   "id": "f6ad7d17-57b6-4fa4-87a8-c5320b1e1bab",
   "metadata": {},
   "outputs": [],
   "source": [
    "x3 = np.array(x2)"
   ]
  },
  {
   "cell_type": "code",
   "execution_count": null,
   "id": "554d9d1b-53f7-4ae2-9e73-40c690ce1dde",
   "metadata": {},
   "outputs": [],
   "source": []
  },
  {
   "cell_type": "code",
   "execution_count": 56,
   "id": "86e18a80-7770-40b4-901c-9cce895c88df",
   "metadata": {},
   "outputs": [
    {
     "data": {
      "text/plain": [
       "[<matplotlib.lines.Line2D at 0x1a3b2c081d0>]"
      ]
     },
     "execution_count": 56,
     "metadata": {},
     "output_type": "execute_result"
    },
    {
     "data": {
      "image/png": "[encoded data removed]",
      "text/plain": [
       "<Figure size 640x480 with 1 Axes>"
      ]
     },
     "metadata": {},
     "output_type": "display_data"
    }
   ],
   "source": [
    "plt.plot(X,Y,'.')\n",
    "plt.plot(np.array(x2),p_2order(np.array(x2)),'-')\n",
    "plt.plot(np.array(x2),p_3order(np.array(x2)),'-')"
   ]
  },
  {
   "cell_type": "code",
   "execution_count": 48,
   "id": "8e2638b2-2eae-4916-872d-4b7c371e874f",
   "metadata": {},
   "outputs": [
    {
     "data": {
      "text/plain": [
       "array([ 16536932.80895646,  16525118.16876288,  15252341.05615276,\n",
       "        13238963.07396905,  12881876.83063565,  11345604.81234603,\n",
       "         9353043.24917718,   8489294.73082154,   6853942.30462435,\n",
       "         5071985.66835689,   3802567.79413955, -49109042.73811044])"
      ]
     },
     "execution_count": 48,
     "metadata": {},
     "output_type": "execute_result"
    }
   ],
   "source": [
    "p_2order(np.array(x2))"
   ]
  },
  {
   "cell_type": "code",
   "execution_count": null,
   "id": "150cf032-388a-4af7-a523-ec991fad2596",
   "metadata": {},
   "outputs": [],
   "source": []
  },
  {
   "cell_type": "code",
   "execution_count": null,
   "id": "8011ad9a-50dd-48a1-85ad-e5e379b39016",
   "metadata": {},
   "outputs": [],
   "source": []
  },
  {
   "cell_type": "code",
   "execution_count": null,
   "id": "f2f118f1-a47e-418b-a5f4-98e3434d6ab4",
   "metadata": {},
   "outputs": [],
   "source": []
  },
  {
   "cell_type": "code",
   "execution_count": 87,
   "id": "d1803016-0524-4b36-be4b-318a340b27cd",
   "metadata": {},
   "outputs": [],
   "source": [
    "dain_sorted_2 = dain_sorted.sort_values(by = 'price_to_sales_ratio',ascending = True).reset_index(drop=True).copy()"
   ]
  },
  {
   "cell_type": "code",
   "execution_count": 88,
   "id": "c4490406-fa1c-4328-8ff4-c531d4430592",
   "metadata": {},
   "outputs": [
    {
     "data": {
      "text/html": [
       "<div>\n",
       "<style scoped>\n",
       "    .dataframe tbody tr th:only-of-type {\n",
       "        vertical-align: middle;\n",
       "    }\n",
       "\n",
       "    .dataframe tbody tr th {\n",
       "        vertical-align: top;\n",
       "    }\n",
       "\n",
       "    .dataframe thead th {\n",
       "        text-align: right;\n",
       "    }\n",
       "</style>\n",
       "<table border=\"1\" class=\"dataframe\">\n",
       "  <thead>\n",
       "    <tr style=\"text-align: right;\">\n",
       "      <th></th>\n",
       "      <th>sales_to_mc_ratio</th>\n",
       "      <th>gross_emissions</th>\n",
       "      <th>price_to_sales_ratio</th>\n",
       "      <th>gross_emissions_from_baseline</th>\n",
       "    </tr>\n",
       "  </thead>\n",
       "  <tbody>\n",
       "    <tr>\n",
       "      <th>0</th>\n",
       "      <td>0.402957</td>\n",
       "      <td>38383470</td>\n",
       "      <td>2.481655</td>\n",
       "      <td>0</td>\n",
       "    </tr>\n",
       "    <tr>\n",
       "      <th>1</th>\n",
       "      <td>0.359398</td>\n",
       "      <td>29579370</td>\n",
       "      <td>2.782428</td>\n",
       "      <td>8804100</td>\n",
       "    </tr>\n",
       "    <tr>\n",
       "      <th>2</th>\n",
       "      <td>0.319994</td>\n",
       "      <td>25136170</td>\n",
       "      <td>3.125059</td>\n",
       "      <td>13247300</td>\n",
       "    </tr>\n",
       "    <tr>\n",
       "      <th>3</th>\n",
       "      <td>0.309776</td>\n",
       "      <td>27416300</td>\n",
       "      <td>3.228142</td>\n",
       "      <td>10967170</td>\n",
       "    </tr>\n",
       "    <tr>\n",
       "      <th>4</th>\n",
       "      <td>0.238692</td>\n",
       "      <td>25033730</td>\n",
       "      <td>4.189504</td>\n",
       "      <td>13349740</td>\n",
       "    </tr>\n",
       "    <tr>\n",
       "      <th>5</th>\n",
       "      <td>0.159602</td>\n",
       "      <td>22594440</td>\n",
       "      <td>6.265596</td>\n",
       "      <td>15789030</td>\n",
       "    </tr>\n",
       "    <tr>\n",
       "      <th>6</th>\n",
       "      <td>0.158365</td>\n",
       "      <td>20604000</td>\n",
       "      <td>6.314540</td>\n",
       "      <td>17779470</td>\n",
       "    </tr>\n",
       "    <tr>\n",
       "      <th>7</th>\n",
       "      <td>0.149313</td>\n",
       "      <td>23186400</td>\n",
       "      <td>6.697338</td>\n",
       "      <td>15197070</td>\n",
       "    </tr>\n",
       "  </tbody>\n",
       "</table>\n",
       "</div>"
      ],
      "text/plain": [
       "   sales_to_mc_ratio  gross_emissions  price_to_sales_ratio  \\\n",
       "0           0.402957         38383470              2.481655   \n",
       "1           0.359398         29579370              2.782428   \n",
       "2           0.319994         25136170              3.125059   \n",
       "3           0.309776         27416300              3.228142   \n",
       "4           0.238692         25033730              4.189504   \n",
       "5           0.159602         22594440              6.265596   \n",
       "6           0.158365         20604000              6.314540   \n",
       "7           0.149313         23186400              6.697338   \n",
       "\n",
       "   gross_emissions_from_baseline  \n",
       "0                              0  \n",
       "1                        8804100  \n",
       "2                       13247300  \n",
       "3                       10967170  \n",
       "4                       13349740  \n",
       "5                       15789030  \n",
       "6                       17779470  \n",
       "7                       15197070  "
      ]
     },
     "execution_count": 88,
     "metadata": {},
     "output_type": "execute_result"
    }
   ],
   "source": [
    "dain_sorted_2"
   ]
  },
  {
   "cell_type": "code",
   "execution_count": 146,
   "id": "0270d36f-08ab-47b5-bff1-17cf92cfe24e",
   "metadata": {},
   "outputs": [],
   "source": [
    "X1 = dain_sorted_2[['price_to_sales_ratio']][1:]\n",
    "Y1 = dain_sorted_2[['gross_emissions_from_baseline']][1:]"
   ]
  },
  {
   "cell_type": "code",
   "execution_count": 144,
   "id": "03c77e8f-2519-4578-b5bd-cc644822021c",
   "metadata": {},
   "outputs": [
    {
     "data": {
      "text/plain": [
       "1    2.782428\n",
       "2    3.125059\n",
       "3    3.228142\n",
       "4    4.189504\n",
       "5    6.265596\n",
       "6    6.314540\n",
       "7    6.697338\n",
       "Name: price_to_sales_ratio, dtype: float64"
      ]
     },
     "execution_count": 144,
     "metadata": {},
     "output_type": "execute_result"
    }
   ],
   "source": [
    "X1"
   ]
  },
  {
   "cell_type": "code",
   "execution_count": 132,
   "id": "35acc4c3-487e-4e0e-b295-dd3a7aafc43a",
   "metadata": {},
   "outputs": [],
   "source": [
    "f_2order_2 = np.polyfit(X1, Y1, 1) \n",
    "p_2order_2 = np.poly1d(f_2order_2)"
   ]
  },
  {
   "cell_type": "code",
   "execution_count": 133,
   "id": "f1713a49-622e-4539-a4ec-587c3ff9be5c",
   "metadata": {},
   "outputs": [
    {
     "data": {
      "text/plain": [
       "[<matplotlib.lines.Line2D at 0x19afdcc5510>]"
      ]
     },
     "execution_count": 133,
     "metadata": {},
     "output_type": "execute_result"
    },
    {
     "data": {
      "image/png": "[encoded data removed]",
      "text/plain": [
       "<Figure size 640x480 with 1 Axes>"
      ]
     },
     "metadata": {},
     "output_type": "display_data"
    }
   ],
   "source": [
    "plt.plot(X1,Y1,'.')\n",
    "plt.plot(X1,p_2order_2(X1),'-')\n",
    "#plt.plot(X1,p_3order(X1),'-')"
   ]
  },
  {
   "cell_type": "code",
   "execution_count": 117,
   "id": "9a97a4e0-b9b6-49f1-a597-45899ded369b",
   "metadata": {},
   "outputs": [],
   "source": [
    "x1 = [6.8,7.0,7.3,7.6,7.9]"
   ]
  },
  {
   "cell_type": "code",
   "execution_count": 118,
   "id": "04bc7df2-b633-4051-b5e3-6b5182b675ef",
   "metadata": {},
   "outputs": [],
   "source": [
    "x2 =  list(X1).copy()"
   ]
  },
  {
   "cell_type": "code",
   "execution_count": 119,
   "id": "7c0875e9-983d-43b9-9f96-2990f210f957",
   "metadata": {},
   "outputs": [],
   "source": [
    "x2.extend(x1)"
   ]
  },
  {
   "cell_type": "code",
   "execution_count": 120,
   "id": "54bc7934-47f9-4fde-ba86-4e7f6ae726b0",
   "metadata": {},
   "outputs": [
    {
     "data": {
      "text/plain": [
       "[2.481655007,\n",
       " 2.782428039,\n",
       " 3.12505883,\n",
       " 3.228142422,\n",
       " 4.189503947,\n",
       " 6.265595687,\n",
       " 6.31454018,\n",
       " 6.69733774,\n",
       " 6.8,\n",
       " 7.0,\n",
       " 7.3,\n",
       " 7.6,\n",
       " 7.9]"
      ]
     },
     "execution_count": 120,
     "metadata": {},
     "output_type": "execute_result"
    }
   ],
   "source": [
    "x2"
   ]
  },
  {
   "cell_type": "code",
   "execution_count": 134,
   "id": "e08d76b9-a9fe-4c3f-b795-3b9aaf0cdbb4",
   "metadata": {},
   "outputs": [
    {
     "data": {
      "text/plain": [
       "[<matplotlib.lines.Line2D at 0x19afb417110>]"
      ]
     },
     "execution_count": 134,
     "metadata": {},
     "output_type": "execute_result"
    },
    {
     "data": {
      "image/png": "[encoded data removed]",
      "text/plain": [
       "<Figure size 640x480 with 1 Axes>"
      ]
     },
     "metadata": {},
     "output_type": "display_data"
    }
   ],
   "source": [
    "plt.plot(X1,Y1,'.')\n",
    "plt.plot(x2,p_2order_2(x2),'-')\n",
    "#plt.plot(X1,p_3order(X1),'-')"
   ]
  },
  {
   "cell_type": "code",
   "execution_count": 135,
   "id": "cc63d730-d308-4332-a072-c2f820d58f32",
   "metadata": {},
   "outputs": [
    {
     "data": {
      "text/plain": [
       "array([10241745.056967  , 10704656.91092357, 11231990.93960875,\n",
       "       11390644.18178248, 12870250.3914917 , 16065508.52336878,\n",
       "       16140837.70379741, 16729991.34902732, 16887996.13021386,\n",
       "       17195810.86405381, 17657532.96481373, 18119255.06557366,\n",
       "       18580977.16633358])"
      ]
     },
     "execution_count": 135,
     "metadata": {},
     "output_type": "execute_result"
    }
   ],
   "source": [
    "p_2order_2(x2)"
   ]
  },
  {
   "cell_type": "code",
   "execution_count": 136,
   "id": "4fc916e2-9b23-4200-bcac-aba6caf463c3",
   "metadata": {},
   "outputs": [
    {
     "data": {
      "text/plain": [
       "1     8804100\n",
       "2    13247300\n",
       "3    10967170\n",
       "4    13349740\n",
       "5    15789030\n",
       "6    17779470\n",
       "7    15197070\n",
       "Name: gross_emissions_from_baseline, dtype: int64"
      ]
     },
     "execution_count": 136,
     "metadata": {},
     "output_type": "execute_result"
    }
   ],
   "source": [
    "Y1"
   ]
  },
  {
   "cell_type": "code",
   "execution_count": 137,
   "id": "7ddb2304-2768-43c2-8f4f-a0217d37f436",
   "metadata": {},
   "outputs": [],
   "source": [
    "import seaborn as sns"
   ]
  },
  {
   "cell_type": "code",
   "execution_count": 139,
   "id": "517337a6-6c2a-42c3-b5ee-60e59e237446",
   "metadata": {},
   "outputs": [
    {
     "data": {
      "text/plain": [
       "<Axes: xlabel='price_to_sales_ratio', ylabel='gross_emissions_from_baseline'>"
      ]
     },
     "execution_count": 139,
     "metadata": {},
     "output_type": "execute_result"
    },
    {
     "data": {
      "image/png": "[encoded data removed]",
      "text/plain": [
       "<Figure size 640x480 with 1 Axes>"
      ]
     },
     "metadata": {},
     "output_type": "display_data"
    }
   ],
   "source": [
    "sns.regplot(x = X1, y = Y1)"
   ]
  },
  {
   "cell_type": "code",
   "execution_count": 140,
   "id": "b1563431-7d5d-4a5e-86ed-50e37e28d27e",
   "metadata": {},
   "outputs": [],
   "source": [
    "from sklearn.linear_model import LinearRegression"
   ]
  },
  {
   "cell_type": "code",
   "execution_count": 141,
   "id": "a297fd52-5643-4916-b425-58c8e9726203",
   "metadata": {},
   "outputs": [],
   "source": [
    "lm = LinearRegression()"
   ]
  },
  {
   "cell_type": "code",
   "execution_count": null,
   "id": "53941b43-eacf-4d60-9b9c-1dd102c7526b",
   "metadata": {},
   "outputs": [],
   "source": []
  },
  {
   "cell_type": "code",
   "execution_count": 147,
   "id": "e6a51cef-4d35-4266-b81e-6e251496bc74",
   "metadata": {},
   "outputs": [
    {
     "data": {
      "text/html": [
       "<style>#sk-container-id-1 {color: black;}#sk-container-id-1 pre{padding: 0;}#sk-container-id-1 div.sk-toggleable {background-color: white;}#sk-container-id-1 label.sk-toggleable__label {cursor: pointer;display: block;width: 100%;margin-bottom: 0;padding: 0.3em;box-sizing: border-box;text-align: center;}#sk-container-id-1 label.sk-toggleable__label-arrow:before {content: \"▸\";float: left;margin-right: 0.25em;color: #696969;}#sk-container-id-1 label.sk-toggleable__label-arrow:hover:before {color: black;}#sk-container-id-1 div.sk-estimator:hover label.sk-toggleable__label-arrow:before {color: black;}#sk-container-id-1 div.sk-toggleable__content {max-height: 0;max-width: 0;overflow: hidden;text-align: left;background-color: #f0f8ff;}#sk-container-id-1 div.sk-toggleable__content pre {margin: 0.2em;color: black;border-radius: 0.25em;background-color: #f0f8ff;}#sk-container-id-1 input.sk-toggleable__control:checked~div.sk-toggleable__content {max-height: 200px;max-width: 100%;overflow: auto;}#sk-container-id-1 input.sk-toggleable__control:checked~label.sk-toggleable__label-arrow:before {content: \"▾\";}#sk-container-id-1 div.sk-estimator input.sk-toggleable__control:checked~label.sk-toggleable__label {background-color: #d4ebff;}#sk-container-id-1 div.sk-label input.sk-toggleable__control:checked~label.sk-toggleable__label {background-color: #d4ebff;}#sk-container-id-1 input.sk-hidden--visually {border: 0;clip: rect(1px 1px 1px 1px);clip: rect(1px, 1px, 1px, 1px);height: 1px;margin: -1px;overflow: hidden;padding: 0;position: absolute;width: 1px;}#sk-container-id-1 div.sk-estimator {font-family: monospace;background-color: #f0f8ff;border: 1px dotted black;border-radius: 0.25em;box-sizing: border-box;margin-bottom: 0.5em;}#sk-container-id-1 div.sk-estimator:hover {background-color: #d4ebff;}#sk-container-id-1 div.sk-parallel-item::after {content: \"\";width: 100%;border-bottom: 1px solid gray;flex-grow: 1;}#sk-container-id-1 div.sk-label:hover label.sk-toggleable__label {background-color: #d4ebff;}#sk-container-id-1 div.sk-serial::before {content: \"\";position: absolute;border-left: 1px solid gray;box-sizing: border-box;top: 0;bottom: 0;left: 50%;z-index: 0;}#sk-container-id-1 div.sk-serial {display: flex;flex-direction: column;align-items: center;background-color: white;padding-right: 0.2em;padding-left: 0.2em;position: relative;}#sk-container-id-1 div.sk-item {position: relative;z-index: 1;}#sk-container-id-1 div.sk-parallel {display: flex;align-items: stretch;justify-content: center;background-color: white;position: relative;}#sk-container-id-1 div.sk-item::before, #sk-container-id-1 div.sk-parallel-item::before {content: \"\";position: absolute;border-left: 1px solid gray;box-sizing: border-box;top: 0;bottom: 0;left: 50%;z-index: -1;}#sk-container-id-1 div.sk-parallel-item {display: flex;flex-direction: column;z-index: 1;position: relative;background-color: white;}#sk-container-id-1 div.sk-parallel-item:first-child::after {align-self: flex-end;width: 50%;}#sk-container-id-1 div.sk-parallel-item:last-child::after {align-self: flex-start;width: 50%;}#sk-container-id-1 div.sk-parallel-item:only-child::after {width: 0;}#sk-container-id-1 div.sk-dashed-wrapped {border: 1px dashed gray;margin: 0 0.4em 0.5em 0.4em;box-sizing: border-box;padding-bottom: 0.4em;background-color: white;}#sk-container-id-1 div.sk-label label {font-family: monospace;font-weight: bold;display: inline-block;line-height: 1.2em;}#sk-container-id-1 div.sk-label-container {text-align: center;}#sk-container-id-1 div.sk-container {/* jupyter's `normalize.less` sets `[hidden] { display: none; }` but bootstrap.min.css set `[hidden] { display: none !important; }` so we also need the `!important` here to be able to override the default hidden behavior on the sphinx rendered scikit-learn.org. See: https://github.com/scikit-learn/scikit-learn/issues/21755 */display: inline-block !important;position: relative;}#sk-container-id-1 div.sk-text-repr-fallback {display: none;}</style><div id=\"sk-container-id-1\" class=\"sk-top-container\"><div class=\"sk-text-repr-fallback\"><pre>LinearRegression()</pre><b>In a Jupyter environment, please rerun this cell to show the HTML representation or trust the notebook. <br />On GitHub, the HTML representation is unable to render, please try loading this page with nbviewer.org.</b></div><div class=\"sk-container\" hidden><div class=\"sk-item\"><div class=\"sk-estimator sk-toggleable\"><input class=\"sk-toggleable__control sk-hidden--visually\" id=\"sk-estimator-id-1\" type=\"checkbox\" checked><label for=\"sk-estimator-id-1\" class=\"sk-toggleable__label sk-toggleable__label-arrow\">LinearRegression</label><div class=\"sk-toggleable__content\"><pre>LinearRegression()</pre></div></div></div></div></div>"
      ],
      "text/plain": [
       "LinearRegression()"
      ]
     },
     "execution_count": 147,
     "metadata": {},
     "output_type": "execute_result"
    }
   ],
   "source": [
    "lm = LinearRegression()\n",
    "lm.fit(X1,Y1)\n",
    "lm.score(X1, Y1)"
   ]
  },
  {
   "cell_type": "code",
   "execution_count": 148,
   "id": "01955290-4d28-46ff-88db-53e8c35db791",
   "metadata": {},
   "outputs": [
    {
     "data": {
      "text/plain": [
       "0.7597961378573843"
      ]
     },
     "execution_count": 148,
     "metadata": {},
     "output_type": "execute_result"
    }
   ],
   "source": [
    "lm.score(X1, Y1)"
   ]
  },
  {
   "cell_type": "code",
   "execution_count": 83,
   "id": "ef8763ed-4253-4851-98a1-e7b96815a222",
   "metadata": {},
   "outputs": [],
   "source": [
    "def func(a=[]):\n",
    "    a.append(1)\n",
    "    return a"
   ]
  },
  {
   "cell_type": "code",
   "execution_count": 85,
   "id": "a12178c9-b760-4f29-a35d-78c97b2f8c4b",
   "metadata": {},
   "outputs": [
    {
     "name": "stdout",
     "output_type": "stream",
     "text": [
      "[1, 1]\n",
      "[1, 1, 1]\n"
     ]
    }
   ],
   "source": [
    "print(func())\n",
    "print(func())"
   ]
  },
  {
   "cell_type": "code",
   "execution_count": 86,
   "id": "ad23bd77-5ac3-4bdb-bb20-b068e21981d4",
   "metadata": {},
   "outputs": [
    {
     "data": {
      "text/plain": [
       "[1, 1, 1, 1]"
      ]
     },
     "execution_count": 86,
     "metadata": {},
     "output_type": "execute_result"
    }
   ],
   "source": [
    "func()"
   ]
  },
  {
   "cell_type": "code",
   "execution_count": 28,
   "id": "01455d04-4e36-4307-84f6-4fe1e1a48e5f",
   "metadata": {},
   "outputs": [],
   "source": [
    "import json\n",
    "import pandas as pd"
   ]
  },
  {
   "cell_type": "code",
   "execution_count": 67,
   "id": "d2886c27-324c-4dc3-b060-a7efc2eda0ac",
   "metadata": {},
   "outputs": [],
   "source": [
    "greenhouse_gas_emissions = pd.read_csv(r\"C:\\Users\\pryns\\OneDrive\\Desktop\\Apple_Emissions\\apple_emissions\\greenhouse_gas_emissions.csv\")"
   ]
  },
  {
   "cell_type": "code",
   "execution_count": 68,
   "id": "19dc7336-ca3d-4540-8855-8c179ee690b9",
   "metadata": {},
   "outputs": [],
   "source": [
    "greenhouse_gas_emissions_json = greenhouse_gas_emissions.to_json(orient = \"records\")"
   ]
  },
  {
   "cell_type": "code",
   "execution_count": 78,
   "id": "dc54cc1d-e100-409c-9270-1757eb02b0c4",
   "metadata": {
    "scrolled": true
   },
   "outputs": [
    {
     "data": {
      "text/plain": [
       "'[{\"Fiscal Year\":2022,\"Category\":\"Corporate emissions\",\"Type\":\"Gross emissions\",\"Scope\":\"Scope 1\",\"Description\":\"Natural gas, diesel, propane\",\"Emissions\":39700.0},{\"Fiscal Year\":2022,\"Category\":\"Corporate emissions\",\"Type\":\"Gross emissions\",\"Scope\":\"Scope 1\",\"Description\":\"Fleet vehicles\",\"Emissions\":12600.0},{\"Fiscal Year\":2022,\"Category\":\"Corporate emissions\",\"Type\":\"Gross emissions\",\"Scope\":\"Scope 1\",\"Description\":\"Other (R&D processes & refrigerant leaks)\",\"Emissions\":2900.0},{\"Fiscal Year\":2022,\"Category\":\"Corporate emissions\",\"Type\":\"Gross emissions\",\"Scope\":\"Scope 2 (market-based)\",\"Description\":\"Electricity\",\"Emissions\":0.0},{\"Fiscal Year\":2022,\"Category\":\"Corporate emissions\",\"Type\":\"Gross emissions\",\"Scope\":\"Scope 2 (market-based)\",\"Description\":\"Steam, heating, and cooling\",\"Emissions\":3000.0},{\"Fiscal Year\":2022,\"Category\":\"Corporate emissions\",\"Type\":\"Gross emissions\",\"Scope\":\"Scope 3\",\"Description\":\"Business travel\",\"Emissions\":113500.0},{\"Fiscal Year\":2022,\"Category\":\"Corporate emissions\",\"Type\":\"Gross emissions\",\"Scope\":\"Scope 3\",\"Description\":\"Employee commute\",\"Emissions\":134200.0},{\"Fiscal Year\":2022,\"Category\":\"Corporate emissions\",\"Type\":\"Gross emissions\",\"Scope\":\"Scope 3\",\"Description\":\"Upstream fuel\",\"Emissions\":10600.0},{\"Fiscal Year\":2022,\"Category\":\"Corporate emissions\",\"Type\":\"Gross emissions\",\"Scope\":\"Scope 3\",\"Description\":\"Work from home (market-based)\",\"Emissions\":7500.0},{\"Fiscal Year\":2022,\"Category\":\"Corporate emissions\",\"Type\":\"Gross emissions\",\"Scope\":\"Scope 3\",\"Description\":\"Transmission and distribution loss (market-based)\",\"Emissions\":0.0},{\"Fiscal Year\":2022,\"Category\":\"Corporate emissions\",\"Type\":\"Gross emissions\",\"Scope\":\"Scope 3\",\"Description\":\"Third-party cloud (market-based)\",\"Emissions\":0.0},{\"Fiscal Year\":2022,\"Category\":\"Corporate emissions\",\"Type\":\"Carbon removals\",\"Scope\":null,\"Description\":\"Corporate carbon offsets\",\"Emissions\":-324100.0},{\"Fiscal Year\":2022,\"Category\":\"Product life cycle emissions\",\"Type\":\"Gross emissions\",\"Scope\":\"Scope 3\",\"Description\":\"Manufacturing (purchased goods and services)\",\"Emissions\":13400000.0},{\"Fiscal Year\":2022,\"Category\":\"Product life cycle emissions\",\"Type\":\"Gross emissions\",\"Scope\":\"Scope 3\",\"Description\":\"Product transportation (upstream and downstream)\",\"Emissions\":1900000.0},{\"Fiscal Year\":2022,\"Category\":\"Product life cycle emissions\",\"Type\":\"Gross emissions\",\"Scope\":\"Scope 3\",\"Description\":\"Product use (use of sold products)\",\"Emissions\":4900000.0},{\"Fiscal Year\":2022,\"Category\":\"Product life cycle emissions\",\"Type\":\"Gross emissions\",\"Scope\":\"Scope 3\",\"Description\":\"End-of-life processing\",\"Emissions\":80000.0},{\"Fiscal Year\":2022,\"Category\":\"Product life cycle emissions\",\"Type\":\"Carbon removals\",\"Scope\":null,\"Description\":\"Product carbon offsets\",\"Emissions\":0.0},{\"Fiscal Year\":2021,\"Category\":\"Corporate emissions\",\"Type\":\"Gross emissions\",\"Scope\":\"Scope 1\",\"Description\":\"Natural gas, diesel, propane\",\"Emissions\":40070.0},{\"Fiscal Year\":2021,\"Category\":\"Corporate emissions\",\"Type\":\"Gross emissions\",\"Scope\":\"Scope 1\",\"Description\":\"Fleet vehicles\",\"Emissions\":12090.0},{\"Fiscal Year\":2021,\"Category\":\"Corporate emissions\",\"Type\":\"Gross emissions\",\"Scope\":\"Scope 1\",\"Description\":\"Other (R&D processes & refrigerant leaks)\",\"Emissions\":3040.0},{\"Fiscal Year\":2021,\"Category\":\"Corporate emissions\",\"Type\":\"Gross emissions\",\"Scope\":\"Scope 2 (market-based)\",\"Description\":\"Electricity\",\"Emissions\":0.0},{\"Fiscal Year\":2021,\"Category\":\"Corporate emissions\",\"Type\":\"Gross emissions\",\"Scope\":\"Scope 2 (market-based)\",\"Description\":\"Steam, heating, and cooling\",\"Emissions\":2780.0},{\"Fiscal Year\":2021,\"Category\":\"Corporate emissions\",\"Type\":\"Gross emissions\",\"Scope\":\"Scope 3\",\"Description\":\"Business travel\",\"Emissions\":22850.0},{\"Fiscal Year\":2021,\"Category\":\"Corporate emissions\",\"Type\":\"Gross emissions\",\"Scope\":\"Scope 3\",\"Description\":\"Employee commute\",\"Emissions\":85570.0},{\"Fiscal Year\":2021,\"Category\":\"Corporate emissions\",\"Type\":\"Gross emissions\",\"Scope\":\"Scope 3\",\"Description\":\"Upstream fuel\",\"Emissions\":0.0},{\"Fiscal Year\":2021,\"Category\":\"Corporate emissions\",\"Type\":\"Gross emissions\",\"Scope\":\"Scope 3\",\"Description\":\"Work from home (market-based)\",\"Emissions\":0.0},{\"Fiscal Year\":2021,\"Category\":\"Corporate emissions\",\"Type\":\"Gross emissions\",\"Scope\":\"Scope 3\",\"Description\":\"Transmission and distribution loss (market-based)\",\"Emissions\":null},{\"Fiscal Year\":2021,\"Category\":\"Corporate emissions\",\"Type\":\"Gross emissions\",\"Scope\":\"Scope 3\",\"Description\":\"Third-party cloud (market-based)\",\"Emissions\":0.0},{\"Fiscal Year\":2021,\"Category\":\"Corporate emissions\",\"Type\":\"Carbon removals\",\"Scope\":null,\"Description\":\"Corporate carbon offsets\",\"Emissions\":-167000.0},{\"Fiscal Year\":2021,\"Category\":\"Product life cycle emissions\",\"Type\":\"Gross emissions\",\"Scope\":\"Scope 3\",\"Description\":\"Manufacturing (purchased goods and services)\",\"Emissions\":16200000.0},{\"Fiscal Year\":2021,\"Category\":\"Product life cycle emissions\",\"Type\":\"Gross emissions\",\"Scope\":\"Scope 3\",\"Description\":\"Product transportation (upstream and downstream)\",\"Emissions\":1750000.0},{\"Fiscal Year\":2021,\"Category\":\"Product life cycle emissions\",\"Type\":\"Gross emissions\",\"Scope\":\"Scope 3\",\"Description\":\"Product use (use of sold products)\",\"Emissions\":4990000.0},{\"Fiscal Year\":2021,\"Category\":\"Product life cycle emissions\",\"Type\":\"Gross emissions\",\"Scope\":\"Scope 3\",\"Description\":\"End-of-life processing\",\"Emissions\":80000.0},{\"Fiscal Year\":2021,\"Category\":\"Product life cycle emissions\",\"Type\":\"Carbon removals\",\"Scope\":null,\"Description\":\"Product carbon offsets\",\"Emissions\":-500000.0},{\"Fiscal Year\":2020,\"Category\":\"Corporate emissions\",\"Type\":\"Gross emissions\",\"Scope\":\"Scope 1\",\"Description\":\"Natural gas, diesel, propane\",\"Emissions\":39340.0},{\"Fiscal Year\":2020,\"Category\":\"Corporate emissions\",\"Type\":\"Gross emissions\",\"Scope\":\"Scope 1\",\"Description\":\"Fleet vehicles\",\"Emissions\":4270.0},{\"Fiscal Year\":2020,\"Category\":\"Corporate emissions\",\"Type\":\"Gross emissions\",\"Scope\":\"Scope 1\",\"Description\":\"Other (R&D processes & refrigerant leaks)\",\"Emissions\":3830.0},{\"Fiscal Year\":2020,\"Category\":\"Corporate emissions\",\"Type\":\"Gross emissions\",\"Scope\":\"Scope 2 (market-based)\",\"Description\":\"Electricity\",\"Emissions\":0.0},{\"Fiscal Year\":2020,\"Category\":\"Corporate emissions\",\"Type\":\"Gross emissions\",\"Scope\":\"Scope 2 (market-based)\",\"Description\":\"Steam, heating, and cooling\",\"Emissions\":0.0},{\"Fiscal Year\":2020,\"Category\":\"Corporate emissions\",\"Type\":\"Gross emissions\",\"Scope\":\"Scope 3\",\"Description\":\"Business travel\",\"Emissions\":153000.0},{\"Fiscal Year\":2020,\"Category\":\"Corporate emissions\",\"Type\":\"Gross emissions\",\"Scope\":\"Scope 3\",\"Description\":\"Employee commute\",\"Emissions\":134000.0},{\"Fiscal Year\":2020,\"Category\":\"Corporate emissions\",\"Type\":\"Gross emissions\",\"Scope\":\"Scope 3\",\"Description\":\"Upstream fuel\",\"Emissions\":0.0},{\"Fiscal Year\":2020,\"Category\":\"Corporate emissions\",\"Type\":\"Gross emissions\",\"Scope\":\"Scope 3\",\"Description\":\"Work from home (market-based)\",\"Emissions\":0.0},{\"Fiscal Year\":2020,\"Category\":\"Corporate emissions\",\"Type\":\"Gross emissions\",\"Scope\":\"Scope 3\",\"Description\":\"Transmission and distribution loss (market-based)\",\"Emissions\":null},{\"Fiscal Year\":2020,\"Category\":\"Corporate emissions\",\"Type\":\"Gross emissions\",\"Scope\":\"Scope 3\",\"Description\":\"Third-party cloud (market-based)\",\"Emissions\":0.0},{\"Fiscal Year\":2020,\"Category\":\"Corporate emissions\",\"Type\":\"Carbon removals\",\"Scope\":null,\"Description\":\"Corporate carbon offsets\",\"Emissions\":-70000.0},{\"Fiscal Year\":2020,\"Category\":\"Product life cycle emissions\",\"Type\":\"Gross emissions\",\"Scope\":\"Scope 3\",\"Description\":\"Manufacturing (purchased goods and services)\",\"Emissions\":16100000.0},{\"Fiscal Year\":2020,\"Category\":\"Product life cycle emissions\",\"Type\":\"Gross emissions\",\"Scope\":\"Scope 3\",\"Description\":\"Product transportation (upstream and downstream)\",\"Emissions\":1800000.0},{\"Fiscal Year\":2020,\"Category\":\"Product life cycle emissions\",\"Type\":\"Gross emissions\",\"Scope\":\"Scope 3\",\"Description\":\"Product use (use of sold products)\",\"Emissions\":4300000.0},{\"Fiscal Year\":2020,\"Category\":\"Product life cycle emissions\",\"Type\":\"Gross emissions\",\"Scope\":\"Scope 3\",\"Description\":\"End-of-life processing\",\"Emissions\":60000.0},{\"Fiscal Year\":2020,\"Category\":\"Product life cycle emissions\",\"Type\":\"Carbon removals\",\"Scope\":null,\"Description\":\"Product carbon offsets\",\"Emissions\":0.0},{\"Fiscal Year\":2019,\"Category\":\"Corporate emissions\",\"Type\":\"Gross emissions\",\"Scope\":\"Scope 1\",\"Description\":\"Natural gas, diesel, propane\",\"Emissions\":40910.0},{\"Fiscal Year\":2019,\"Category\":\"Corporate emissions\",\"Type\":\"Gross emissions\",\"Scope\":\"Scope 1\",\"Description\":\"Fleet vehicles\",\"Emissions\":6950.0},{\"Fiscal Year\":2019,\"Category\":\"Corporate emissions\",\"Type\":\"Gross emissions\",\"Scope\":\"Scope 1\",\"Description\":\"Other (R&D processes & refrigerant leaks)\",\"Emissions\":4870.0},{\"Fiscal Year\":2019,\"Category\":\"Corporate emissions\",\"Type\":\"Gross emissions\",\"Scope\":\"Scope 2 (market-based)\",\"Description\":\"Electricity\",\"Emissions\":0.0},{\"Fiscal Year\":2019,\"Category\":\"Corporate emissions\",\"Type\":\"Gross emissions\",\"Scope\":\"Scope 2 (market-based)\",\"Description\":\"Steam, heating, and cooling\",\"Emissions\":0.0},{\"Fiscal Year\":2019,\"Category\":\"Corporate emissions\",\"Type\":\"Gross emissions\",\"Scope\":\"Scope 3\",\"Description\":\"Business travel\",\"Emissions\":326000.0},{\"Fiscal Year\":2019,\"Category\":\"Corporate emissions\",\"Type\":\"Gross emissions\",\"Scope\":\"Scope 3\",\"Description\":\"Employee commute\",\"Emissions\":195000.0},{\"Fiscal Year\":2019,\"Category\":\"Corporate emissions\",\"Type\":\"Gross emissions\",\"Scope\":\"Scope 3\",\"Description\":\"Upstream fuel\",\"Emissions\":0.0},{\"Fiscal Year\":2019,\"Category\":\"Corporate emissions\",\"Type\":\"Gross emissions\",\"Scope\":\"Scope 3\",\"Description\":\"Work from home (market-based)\",\"Emissions\":0.0},{\"Fiscal Year\":2019,\"Category\":\"Corporate emissions\",\"Type\":\"Gross emissions\",\"Scope\":\"Scope 3\",\"Description\":\"Transmission and distribution loss (market-based)\",\"Emissions\":null},{\"Fiscal Year\":2019,\"Category\":\"Corporate emissions\",\"Type\":\"Gross emissions\",\"Scope\":\"Scope 3\",\"Description\":\"Third-party cloud (market-based)\",\"Emissions\":0.0},{\"Fiscal Year\":2019,\"Category\":\"Corporate emissions\",\"Type\":\"Carbon removals\",\"Scope\":null,\"Description\":\"Corporate carbon offsets\",\"Emissions\":0.0},{\"Fiscal Year\":2019,\"Category\":\"Product life cycle emissions\",\"Type\":\"Gross emissions\",\"Scope\":\"Scope 3\",\"Description\":\"Manufacturing (purchased goods and services)\",\"Emissions\":18900000.0},{\"Fiscal Year\":2019,\"Category\":\"Product life cycle emissions\",\"Type\":\"Gross emissions\",\"Scope\":\"Scope 3\",\"Description\":\"Product transportation (upstream and downstream)\",\"Emissions\":1400000.0},{\"Fiscal Year\":2019,\"Category\":\"Product life cycle emissions\",\"Type\":\"Gross emissions\",\"Scope\":\"Scope 3\",\"Description\":\"Product use (use of sold products)\",\"Emissions\":4100000.0},{\"Fiscal Year\":2019,\"Category\":\"Product life cycle emissions\",\"Type\":\"Gross emissions\",\"Scope\":\"Scope 3\",\"Description\":\"End-of-life processing\",\"Emissions\":60000.0},{\"Fiscal Year\":2019,\"Category\":\"Product life cycle emissions\",\"Type\":\"Carbon removals\",\"Scope\":null,\"Description\":\"Product carbon offsets\",\"Emissions\":0.0},{\"Fiscal Year\":2018,\"Category\":\"Corporate emissions\",\"Type\":\"Gross emissions\",\"Scope\":\"Scope 1\",\"Description\":\"Natural gas, diesel, propane\",\"Emissions\":42840.0},{\"Fiscal Year\":2018,\"Category\":\"Corporate emissions\",\"Type\":\"Gross emissions\",\"Scope\":\"Scope 1\",\"Description\":\"Fleet vehicles\",\"Emissions\":11110.0},{\"Fiscal Year\":2018,\"Category\":\"Corporate emissions\",\"Type\":\"Gross emissions\",\"Scope\":\"Scope 1\",\"Description\":\"Other (R&D processes & refrigerant leaks)\",\"Emissions\":3490.0},{\"Fiscal Year\":2018,\"Category\":\"Corporate emissions\",\"Type\":\"Gross emissions\",\"Scope\":\"Scope 2 (market-based)\",\"Description\":\"Electricity\",\"Emissions\":8730.0},{\"Fiscal Year\":2018,\"Category\":\"Corporate emissions\",\"Type\":\"Gross emissions\",\"Scope\":\"Scope 2 (market-based)\",\"Description\":\"Steam, heating, and cooling\",\"Emissions\":0.0},{\"Fiscal Year\":2018,\"Category\":\"Corporate emissions\",\"Type\":\"Gross emissions\",\"Scope\":\"Scope 3\",\"Description\":\"Business travel\",\"Emissions\":337000.0},{\"Fiscal Year\":2018,\"Category\":\"Corporate emissions\",\"Type\":\"Gross emissions\",\"Scope\":\"Scope 3\",\"Description\":\"Employee commute\",\"Emissions\":183000.0},{\"Fiscal Year\":2018,\"Category\":\"Corporate emissions\",\"Type\":\"Gross emissions\",\"Scope\":\"Scope 3\",\"Description\":\"Upstream fuel\",\"Emissions\":0.0},{\"Fiscal Year\":2018,\"Category\":\"Corporate emissions\",\"Type\":\"Gross emissions\",\"Scope\":\"Scope 3\",\"Description\":\"Work from home (market-based)\",\"Emissions\":0.0},{\"Fiscal Year\":2018,\"Category\":\"Corporate emissions\",\"Type\":\"Gross emissions\",\"Scope\":\"Scope 3\",\"Description\":\"Transmission and distribution loss (market-based)\",\"Emissions\":null},{\"Fiscal Year\":2018,\"Category\":\"Corporate emissions\",\"Type\":\"Gross emissions\",\"Scope\":\"Scope 3\",\"Description\":\"Third-party cloud (market-based)\",\"Emissions\":0.0},{\"Fiscal Year\":2018,\"Category\":\"Corporate emissions\",\"Type\":\"Carbon removals\",\"Scope\":null,\"Description\":\"Corporate carbon offsets\",\"Emissions\":0.0},{\"Fiscal Year\":2018,\"Category\":\"Product life cycle emissions\",\"Type\":\"Gross emissions\",\"Scope\":\"Scope 3\",\"Description\":\"Manufacturing (purchased goods and services)\",\"Emissions\":18500000.0},{\"Fiscal Year\":2018,\"Category\":\"Product life cycle emissions\",\"Type\":\"Gross emissions\",\"Scope\":\"Scope 3\",\"Description\":\"Product transportation (upstream and downstream)\",\"Emissions\":1300000.0},{\"Fiscal Year\":2018,\"Category\":\"Product life cycle emissions\",\"Type\":\"Gross emissions\",\"Scope\":\"Scope 3\",\"Description\":\"Product use (use of sold products)\",\"Emissions\":4700000.0},{\"Fiscal Year\":2018,\"Category\":\"Product life cycle emissions\",\"Type\":\"Gross emissions\",\"Scope\":\"Scope 3\",\"Description\":\"End-of-life processing\",\"Emissions\":50000.0},{\"Fiscal Year\":2018,\"Category\":\"Product life cycle emissions\",\"Type\":\"Carbon removals\",\"Scope\":null,\"Description\":\"Product carbon offsets\",\"Emissions\":0.0},{\"Fiscal Year\":2017,\"Category\":\"Corporate emissions\",\"Type\":\"Gross emissions\",\"Scope\":\"Scope 1\",\"Description\":\"Natural gas, diesel, propane\",\"Emissions\":36210.0},{\"Fiscal Year\":2017,\"Category\":\"Corporate emissions\",\"Type\":\"Gross emissions\",\"Scope\":\"Scope 1\",\"Description\":\"Fleet vehicles\",\"Emissions\":8300.0},{\"Fiscal Year\":2017,\"Category\":\"Corporate emissions\",\"Type\":\"Gross emissions\",\"Scope\":\"Scope 1\",\"Description\":\"Other (R&D processes & refrigerant leaks)\",\"Emissions\":2540.0},{\"Fiscal Year\":2017,\"Category\":\"Corporate emissions\",\"Type\":\"Gross emissions\",\"Scope\":\"Scope 2 (market-based)\",\"Description\":\"Electricity\",\"Emissions\":36250.0},{\"Fiscal Year\":2017,\"Category\":\"Corporate emissions\",\"Type\":\"Gross emissions\",\"Scope\":\"Scope 2 (market-based)\",\"Description\":\"Steam, heating, and cooling\",\"Emissions\":null},{\"Fiscal Year\":2017,\"Category\":\"Corporate emissions\",\"Type\":\"Gross emissions\",\"Scope\":\"Scope 3\",\"Description\":\"Business travel\",\"Emissions\":121000.0},{\"Fiscal Year\":2017,\"Category\":\"Corporate emissions\",\"Type\":\"Gross emissions\",\"Scope\":\"Scope 3\",\"Description\":\"Employee commute\",\"Emissions\":172000.0},{\"Fiscal Year\":2017,\"Category\":\"Corporate emissions\",\"Type\":\"Gross emissions\",\"Scope\":\"Scope 3\",\"Description\":\"Upstream fuel\",\"Emissions\":null},{\"Fiscal Year\":2017,\"Category\":\"Corporate emissions\",\"Type\":\"Gross emissions\",\"Scope\":\"Scope 3\",\"Description\":\"Work from home (market-based)\",\"Emissions\":null},{\"Fiscal Year\":2017,\"Category\":\"Corporate emissions\",\"Type\":\"Gross emissions\",\"Scope\":\"Scope 3\",\"Description\":\"Transmission and distribution loss (market-based)\",\"Emissions\":null},{\"Fiscal Year\":2017,\"Category\":\"Corporate emissions\",\"Type\":\"Gross emissions\",\"Scope\":\"Scope 3\",\"Description\":\"Third-party cloud (market-based)\",\"Emissions\":null},{\"Fiscal Year\":2017,\"Category\":\"Corporate emissions\",\"Type\":\"Carbon removals\",\"Scope\":null,\"Description\":\"Corporate carbon offsets\",\"Emissions\":null},{\"Fiscal Year\":2017,\"Category\":\"Product life cycle emissions\",\"Type\":\"Gross emissions\",\"Scope\":\"Scope 3\",\"Description\":\"Manufacturing (purchased goods and services)\",\"Emissions\":21100000.0},{\"Fiscal Year\":2017,\"Category\":\"Product life cycle emissions\",\"Type\":\"Gross emissions\",\"Scope\":\"Scope 3\",\"Description\":\"Product transportation (upstream and downstream)\",\"Emissions\":1200000.0},{\"Fiscal Year\":2017,\"Category\":\"Product life cycle emissions\",\"Type\":\"Gross emissions\",\"Scope\":\"Scope 3\",\"Description\":\"Product use (use of sold products)\",\"Emissions\":4700000.0},{\"Fiscal Year\":2017,\"Category\":\"Product life cycle emissions\",\"Type\":\"Gross emissions\",\"Scope\":\"Scope 3\",\"Description\":\"End-of-life processing\",\"Emissions\":40000.0},{\"Fiscal Year\":2017,\"Category\":\"Product life cycle emissions\",\"Type\":\"Carbon removals\",\"Scope\":null,\"Description\":\"Product carbon offsets\",\"Emissions\":null},{\"Fiscal Year\":2016,\"Category\":\"Corporate emissions\",\"Type\":\"Gross emissions\",\"Scope\":\"Scope 1\",\"Description\":\"Natural gas, diesel, propane\",\"Emissions\":27000.0},{\"Fiscal Year\":2016,\"Category\":\"Corporate emissions\",\"Type\":\"Gross emissions\",\"Scope\":\"Scope 1\",\"Description\":\"Fleet vehicles\",\"Emissions\":7370.0},{\"Fiscal Year\":2016,\"Category\":\"Corporate emissions\",\"Type\":\"Gross emissions\",\"Scope\":\"Scope 1\",\"Description\":\"Other (R&D processes & refrigerant leaks)\",\"Emissions\":null},{\"Fiscal Year\":2016,\"Category\":\"Corporate emissions\",\"Type\":\"Gross emissions\",\"Scope\":\"Scope 2 (market-based)\",\"Description\":\"Electricity\",\"Emissions\":41000.0},{\"Fiscal Year\":2016,\"Category\":\"Corporate emissions\",\"Type\":\"Gross emissions\",\"Scope\":\"Scope 2 (market-based)\",\"Description\":\"Steam, heating, and cooling\",\"Emissions\":null},{\"Fiscal Year\":2016,\"Category\":\"Corporate emissions\",\"Type\":\"Gross emissions\",\"Scope\":\"Scope 3\",\"Description\":\"Business travel\",\"Emissions\":118000.0},{\"Fiscal Year\":2016,\"Category\":\"Corporate emissions\",\"Type\":\"Gross emissions\",\"Scope\":\"Scope 3\",\"Description\":\"Employee commute\",\"Emissions\":186000.0},{\"Fiscal Year\":2016,\"Category\":\"Corporate emissions\",\"Type\":\"Gross emissions\",\"Scope\":\"Scope 3\",\"Description\":\"Upstream fuel\",\"Emissions\":null},{\"Fiscal Year\":2016,\"Category\":\"Corporate emissions\",\"Type\":\"Gross emissions\",\"Scope\":\"Scope 3\",\"Description\":\"Work from home (market-based)\",\"Emissions\":null},{\"Fiscal Year\":2016,\"Category\":\"Corporate emissions\",\"Type\":\"Gross emissions\",\"Scope\":\"Scope 3\",\"Description\":\"Transmission and distribution loss (market-based)\",\"Emissions\":null},{\"Fiscal Year\":2016,\"Category\":\"Corporate emissions\",\"Type\":\"Gross emissions\",\"Scope\":\"Scope 3\",\"Description\":\"Third-party cloud (market-based)\",\"Emissions\":null},{\"Fiscal Year\":2016,\"Category\":\"Corporate emissions\",\"Type\":\"Carbon removals\",\"Scope\":null,\"Description\":\"Corporate carbon offsets\",\"Emissions\":null},{\"Fiscal Year\":2016,\"Category\":\"Product life cycle emissions\",\"Type\":\"Gross emissions\",\"Scope\":\"Scope 3\",\"Description\":\"Manufacturing (purchased goods and services)\",\"Emissions\":22800000.0},{\"Fiscal Year\":2016,\"Category\":\"Product life cycle emissions\",\"Type\":\"Gross emissions\",\"Scope\":\"Scope 3\",\"Description\":\"Product transportation (upstream and downstream)\",\"Emissions\":1200000.0},{\"Fiscal Year\":2016,\"Category\":\"Product life cycle emissions\",\"Type\":\"Gross emissions\",\"Scope\":\"Scope 3\",\"Description\":\"Product use (use of sold products)\",\"Emissions\":4900000.0},{\"Fiscal Year\":2016,\"Category\":\"Product life cycle emissions\",\"Type\":\"Gross emissions\",\"Scope\":\"Scope 3\",\"Description\":\"End-of-life processing\",\"Emissions\":300000.0},{\"Fiscal Year\":2016,\"Category\":\"Product life cycle emissions\",\"Type\":\"Carbon removals\",\"Scope\":null,\"Description\":\"Product carbon offsets\",\"Emissions\":null},{\"Fiscal Year\":2015,\"Category\":\"Corporate emissions\",\"Type\":\"Gross emissions\",\"Scope\":\"Scope 1\",\"Description\":\"Natural gas, diesel, propane\",\"Emissions\":19360.0},{\"Fiscal Year\":2015,\"Category\":\"Corporate emissions\",\"Type\":\"Gross emissions\",\"Scope\":\"Scope 1\",\"Description\":\"Fleet vehicles\",\"Emissions\":8740.0},{\"Fiscal Year\":2015,\"Category\":\"Corporate emissions\",\"Type\":\"Gross emissions\",\"Scope\":\"Scope 1\",\"Description\":\"Other (R&D processes & refrigerant leaks)\",\"Emissions\":null},{\"Fiscal Year\":2015,\"Category\":\"Corporate emissions\",\"Type\":\"Gross emissions\",\"Scope\":\"Scope 2 (market-based)\",\"Description\":\"Electricity\",\"Emissions\":42460.0},{\"Fiscal Year\":2015,\"Category\":\"Corporate emissions\",\"Type\":\"Gross emissions\",\"Scope\":\"Scope 2 (market-based)\",\"Description\":\"Steam, heating, and cooling\",\"Emissions\":null},{\"Fiscal Year\":2015,\"Category\":\"Corporate emissions\",\"Type\":\"Gross emissions\",\"Scope\":\"Scope 3\",\"Description\":\"Business travel\",\"Emissions\":139940.0},{\"Fiscal Year\":2015,\"Category\":\"Corporate emissions\",\"Type\":\"Gross emissions\",\"Scope\":\"Scope 3\",\"Description\":\"Employee commute\",\"Emissions\":172970.0},{\"Fiscal Year\":2015,\"Category\":\"Corporate emissions\",\"Type\":\"Gross emissions\",\"Scope\":\"Scope 3\",\"Description\":\"Upstream fuel\",\"Emissions\":null},{\"Fiscal Year\":2015,\"Category\":\"Corporate emissions\",\"Type\":\"Gross emissions\",\"Scope\":\"Scope 3\",\"Description\":\"Work from home (market-based)\",\"Emissions\":null},{\"Fiscal Year\":2015,\"Category\":\"Corporate emissions\",\"Type\":\"Gross emissions\",\"Scope\":\"Scope 3\",\"Description\":\"Transmission and distribution loss (market-based)\",\"Emissions\":null},{\"Fiscal Year\":2015,\"Category\":\"Corporate emissions\",\"Type\":\"Gross emissions\",\"Scope\":\"Scope 3\",\"Description\":\"Third-party cloud (market-based)\",\"Emissions\":null},{\"Fiscal Year\":2015,\"Category\":\"Corporate emissions\",\"Type\":\"Carbon removals\",\"Scope\":null,\"Description\":\"Corporate carbon offsets\",\"Emissions\":null},{\"Fiscal Year\":2015,\"Category\":\"Product life cycle emissions\",\"Type\":\"Gross emissions\",\"Scope\":\"Scope 3\",\"Description\":\"Manufacturing (purchased goods and services)\",\"Emissions\":29600000.0},{\"Fiscal Year\":2015,\"Category\":\"Product life cycle emissions\",\"Type\":\"Gross emissions\",\"Scope\":\"Scope 3\",\"Description\":\"Product transportation (upstream and downstream)\",\"Emissions\":1300000.0},{\"Fiscal Year\":2015,\"Category\":\"Product life cycle emissions\",\"Type\":\"Gross emissions\",\"Scope\":\"Scope 3\",\"Description\":\"Product use (use of sold products)\",\"Emissions\":6600000.0},{\"Fiscal Year\":2015,\"Category\":\"Product life cycle emissions\",\"Type\":\"Gross emissions\",\"Scope\":\"Scope 3\",\"Description\":\"End-of-life processing\",\"Emissions\":500000.0},{\"Fiscal Year\":2015,\"Category\":\"Product life cycle emissions\",\"Type\":\"Carbon removals\",\"Scope\":null,\"Description\":\"Product carbon offsets\",\"Emissions\":null}]'"
      ]
     },
     "execution_count": 78,
     "metadata": {},
     "output_type": "execute_result"
    }
   ],
   "source": [
    "greenhouse_gas_emissions_json"
   ]
  },
  {
   "cell_type": "code",
   "execution_count": 70,
   "id": "44da6639-91d9-4a16-aa45-08ffc26d017a",
   "metadata": {
    "scrolled": true
   },
   "outputs": [
    {
     "data": {
      "text/plain": [
       "[{'Fiscal Year': 2022,\n",
       "  'Category': 'Corporate emissions',\n",
       "  'Type': 'Gross emissions',\n",
       "  'Scope': 'Scope 1',\n",
       "  'Description': 'Natural gas, diesel, propane',\n",
       "  'Emissions': 39700.0},\n",
       " {'Fiscal Year': 2022,\n",
       "  'Category': 'Corporate emissions',\n",
       "  'Type': 'Gross emissions',\n",
       "  'Scope': 'Scope 1',\n",
       "  'Description': 'Fleet vehicles',\n",
       "  'Emissions': 12600.0},\n",
       " {'Fiscal Year': 2022,\n",
       "  'Category': 'Corporate emissions',\n",
       "  'Type': 'Gross emissions',\n",
       "  'Scope': 'Scope 1',\n",
       "  'Description': 'Other (R&D processes & refrigerant leaks)',\n",
       "  'Emissions': 2900.0},\n",
       " {'Fiscal Year': 2022,\n",
       "  'Category': 'Corporate emissions',\n",
       "  'Type': 'Gross emissions',\n",
       "  'Scope': 'Scope 2 (market-based)',\n",
       "  'Description': 'Electricity',\n",
       "  'Emissions': 0.0},\n",
       " {'Fiscal Year': 2022,\n",
       "  'Category': 'Corporate emissions',\n",
       "  'Type': 'Gross emissions',\n",
       "  'Scope': 'Scope 2 (market-based)',\n",
       "  'Description': 'Steam, heating, and cooling',\n",
       "  'Emissions': 3000.0},\n",
       " {'Fiscal Year': 2022,\n",
       "  'Category': 'Corporate emissions',\n",
       "  'Type': 'Gross emissions',\n",
       "  'Scope': 'Scope 3',\n",
       "  'Description': 'Business travel',\n",
       "  'Emissions': 113500.0},\n",
       " {'Fiscal Year': 2022,\n",
       "  'Category': 'Corporate emissions',\n",
       "  'Type': 'Gross emissions',\n",
       "  'Scope': 'Scope 3',\n",
       "  'Description': 'Employee commute',\n",
       "  'Emissions': 134200.0},\n",
       " {'Fiscal Year': 2022,\n",
       "  'Category': 'Corporate emissions',\n",
       "  'Type': 'Gross emissions',\n",
       "  'Scope': 'Scope 3',\n",
       "  'Description': 'Upstream fuel',\n",
       "  'Emissions': 10600.0},\n",
       " {'Fiscal Year': 2022,\n",
       "  'Category': 'Corporate emissions',\n",
       "  'Type': 'Gross emissions',\n",
       "  'Scope': 'Scope 3',\n",
       "  'Description': 'Work from home (market-based)',\n",
       "  'Emissions': 7500.0},\n",
       " {'Fiscal Year': 2022,\n",
       "  'Category': 'Corporate emissions',\n",
       "  'Type': 'Gross emissions',\n",
       "  'Scope': 'Scope 3',\n",
       "  'Description': 'Transmission and distribution loss (market-based)',\n",
       "  'Emissions': 0.0},\n",
       " {'Fiscal Year': 2022,\n",
       "  'Category': 'Corporate emissions',\n",
       "  'Type': 'Gross emissions',\n",
       "  'Scope': 'Scope 3',\n",
       "  'Description': 'Third-party cloud (market-based)',\n",
       "  'Emissions': 0.0},\n",
       " {'Fiscal Year': 2022,\n",
       "  'Category': 'Corporate emissions',\n",
       "  'Type': 'Carbon removals',\n",
       "  'Scope': None,\n",
       "  'Description': 'Corporate carbon offsets',\n",
       "  'Emissions': -324100.0},\n",
       " {'Fiscal Year': 2022,\n",
       "  'Category': 'Product life cycle emissions',\n",
       "  'Type': 'Gross emissions',\n",
       "  'Scope': 'Scope 3',\n",
       "  'Description': 'Manufacturing (purchased goods and services)',\n",
       "  'Emissions': 13400000.0},\n",
       " {'Fiscal Year': 2022,\n",
       "  'Category': 'Product life cycle emissions',\n",
       "  'Type': 'Gross emissions',\n",
       "  'Scope': 'Scope 3',\n",
       "  'Description': 'Product transportation (upstream and downstream)',\n",
       "  'Emissions': 1900000.0},\n",
       " {'Fiscal Year': 2022,\n",
       "  'Category': 'Product life cycle emissions',\n",
       "  'Type': 'Gross emissions',\n",
       "  'Scope': 'Scope 3',\n",
       "  'Description': 'Product use (use of sold products)',\n",
       "  'Emissions': 4900000.0},\n",
       " {'Fiscal Year': 2022,\n",
       "  'Category': 'Product life cycle emissions',\n",
       "  'Type': 'Gross emissions',\n",
       "  'Scope': 'Scope 3',\n",
       "  'Description': 'End-of-life processing',\n",
       "  'Emissions': 80000.0},\n",
       " {'Fiscal Year': 2022,\n",
       "  'Category': 'Product life cycle emissions',\n",
       "  'Type': 'Carbon removals',\n",
       "  'Scope': None,\n",
       "  'Description': 'Product carbon offsets',\n",
       "  'Emissions': 0.0},\n",
       " {'Fiscal Year': 2021,\n",
       "  'Category': 'Corporate emissions',\n",
       "  'Type': 'Gross emissions',\n",
       "  'Scope': 'Scope 1',\n",
       "  'Description': 'Natural gas, diesel, propane',\n",
       "  'Emissions': 40070.0},\n",
       " {'Fiscal Year': 2021,\n",
       "  'Category': 'Corporate emissions',\n",
       "  'Type': 'Gross emissions',\n",
       "  'Scope': 'Scope 1',\n",
       "  'Description': 'Fleet vehicles',\n",
       "  'Emissions': 12090.0},\n",
       " {'Fiscal Year': 2021,\n",
       "  'Category': 'Corporate emissions',\n",
       "  'Type': 'Gross emissions',\n",
       "  'Scope': 'Scope 1',\n",
       "  'Description': 'Other (R&D processes & refrigerant leaks)',\n",
       "  'Emissions': 3040.0},\n",
       " {'Fiscal Year': 2021,\n",
       "  'Category': 'Corporate emissions',\n",
       "  'Type': 'Gross emissions',\n",
       "  'Scope': 'Scope 2 (market-based)',\n",
       "  'Description': 'Electricity',\n",
       "  'Emissions': 0.0},\n",
       " {'Fiscal Year': 2021,\n",
       "  'Category': 'Corporate emissions',\n",
       "  'Type': 'Gross emissions',\n",
       "  'Scope': 'Scope 2 (market-based)',\n",
       "  'Description': 'Steam, heating, and cooling',\n",
       "  'Emissions': 2780.0},\n",
       " {'Fiscal Year': 2021,\n",
       "  'Category': 'Corporate emissions',\n",
       "  'Type': 'Gross emissions',\n",
       "  'Scope': 'Scope 3',\n",
       "  'Description': 'Business travel',\n",
       "  'Emissions': 22850.0},\n",
       " {'Fiscal Year': 2021,\n",
       "  'Category': 'Corporate emissions',\n",
       "  'Type': 'Gross emissions',\n",
       "  'Scope': 'Scope 3',\n",
       "  'Description': 'Employee commute',\n",
       "  'Emissions': 85570.0},\n",
       " {'Fiscal Year': 2021,\n",
       "  'Category': 'Corporate emissions',\n",
       "  'Type': 'Gross emissions',\n",
       "  'Scope': 'Scope 3',\n",
       "  'Description': 'Upstream fuel',\n",
       "  'Emissions': 0.0},\n",
       " {'Fiscal Year': 2021,\n",
       "  'Category': 'Corporate emissions',\n",
       "  'Type': 'Gross emissions',\n",
       "  'Scope': 'Scope 3',\n",
       "  'Description': 'Work from home (market-based)',\n",
       "  'Emissions': 0.0},\n",
       " {'Fiscal Year': 2021,\n",
       "  'Category': 'Corporate emissions',\n",
       "  'Type': 'Gross emissions',\n",
       "  'Scope': 'Scope 3',\n",
       "  'Description': 'Transmission and distribution loss (market-based)',\n",
       "  'Emissions': None},\n",
       " {'Fiscal Year': 2021,\n",
       "  'Category': 'Corporate emissions',\n",
       "  'Type': 'Gross emissions',\n",
       "  'Scope': 'Scope 3',\n",
       "  'Description': 'Third-party cloud (market-based)',\n",
       "  'Emissions': 0.0},\n",
       " {'Fiscal Year': 2021,\n",
       "  'Category': 'Corporate emissions',\n",
       "  'Type': 'Carbon removals',\n",
       "  'Scope': None,\n",
       "  'Description': 'Corporate carbon offsets',\n",
       "  'Emissions': -167000.0},\n",
       " {'Fiscal Year': 2021,\n",
       "  'Category': 'Product life cycle emissions',\n",
       "  'Type': 'Gross emissions',\n",
       "  'Scope': 'Scope 3',\n",
       "  'Description': 'Manufacturing (purchased goods and services)',\n",
       "  'Emissions': 16200000.0},\n",
       " {'Fiscal Year': 2021,\n",
       "  'Category': 'Product life cycle emissions',\n",
       "  'Type': 'Gross emissions',\n",
       "  'Scope': 'Scope 3',\n",
       "  'Description': 'Product transportation (upstream and downstream)',\n",
       "  'Emissions': 1750000.0},\n",
       " {'Fiscal Year': 2021,\n",
       "  'Category': 'Product life cycle emissions',\n",
       "  'Type': 'Gross emissions',\n",
       "  'Scope': 'Scope 3',\n",
       "  'Description': 'Product use (use of sold products)',\n",
       "  'Emissions': 4990000.0},\n",
       " {'Fiscal Year': 2021,\n",
       "  'Category': 'Product life cycle emissions',\n",
       "  'Type': 'Gross emissions',\n",
       "  'Scope': 'Scope 3',\n",
       "  'Description': 'End-of-life processing',\n",
       "  'Emissions': 80000.0},\n",
       " {'Fiscal Year': 2021,\n",
       "  'Category': 'Product life cycle emissions',\n",
       "  'Type': 'Carbon removals',\n",
       "  'Scope': None,\n",
       "  'Description': 'Product carbon offsets',\n",
       "  'Emissions': -500000.0},\n",
       " {'Fiscal Year': 2020,\n",
       "  'Category': 'Corporate emissions',\n",
       "  'Type': 'Gross emissions',\n",
       "  'Scope': 'Scope 1',\n",
       "  'Description': 'Natural gas, diesel, propane',\n",
       "  'Emissions': 39340.0},\n",
       " {'Fiscal Year': 2020,\n",
       "  'Category': 'Corporate emissions',\n",
       "  'Type': 'Gross emissions',\n",
       "  'Scope': 'Scope 1',\n",
       "  'Description': 'Fleet vehicles',\n",
       "  'Emissions': 4270.0},\n",
       " {'Fiscal Year': 2020,\n",
       "  'Category': 'Corporate emissions',\n",
       "  'Type': 'Gross emissions',\n",
       "  'Scope': 'Scope 1',\n",
       "  'Description': 'Other (R&D processes & refrigerant leaks)',\n",
       "  'Emissions': 3830.0},\n",
       " {'Fiscal Year': 2020,\n",
       "  'Category': 'Corporate emissions',\n",
       "  'Type': 'Gross emissions',\n",
       "  'Scope': 'Scope 2 (market-based)',\n",
       "  'Description': 'Electricity',\n",
       "  'Emissions': 0.0},\n",
       " {'Fiscal Year': 2020,\n",
       "  'Category': 'Corporate emissions',\n",
       "  'Type': 'Gross emissions',\n",
       "  'Scope': 'Scope 2 (market-based)',\n",
       "  'Description': 'Steam, heating, and cooling',\n",
       "  'Emissions': 0.0},\n",
       " {'Fiscal Year': 2020,\n",
       "  'Category': 'Corporate emissions',\n",
       "  'Type': 'Gross emissions',\n",
       "  'Scope': 'Scope 3',\n",
       "  'Description': 'Business travel',\n",
       "  'Emissions': 153000.0},\n",
       " {'Fiscal Year': 2020,\n",
       "  'Category': 'Corporate emissions',\n",
       "  'Type': 'Gross emissions',\n",
       "  'Scope': 'Scope 3',\n",
       "  'Description': 'Employee commute',\n",
       "  'Emissions': 134000.0},\n",
       " {'Fiscal Year': 2020,\n",
       "  'Category': 'Corporate emissions',\n",
       "  'Type': 'Gross emissions',\n",
       "  'Scope': 'Scope 3',\n",
       "  'Description': 'Upstream fuel',\n",
       "  'Emissions': 0.0},\n",
       " {'Fiscal Year': 2020,\n",
       "  'Category': 'Corporate emissions',\n",
       "  'Type': 'Gross emissions',\n",
       "  'Scope': 'Scope 3',\n",
       "  'Description': 'Work from home (market-based)',\n",
       "  'Emissions': 0.0},\n",
       " {'Fiscal Year': 2020,\n",
       "  'Category': 'Corporate emissions',\n",
       "  'Type': 'Gross emissions',\n",
       "  'Scope': 'Scope 3',\n",
       "  'Description': 'Transmission and distribution loss (market-based)',\n",
       "  'Emissions': None},\n",
       " {'Fiscal Year': 2020,\n",
       "  'Category': 'Corporate emissions',\n",
       "  'Type': 'Gross emissions',\n",
       "  'Scope': 'Scope 3',\n",
       "  'Description': 'Third-party cloud (market-based)',\n",
       "  'Emissions': 0.0},\n",
       " {'Fiscal Year': 2020,\n",
       "  'Category': 'Corporate emissions',\n",
       "  'Type': 'Carbon removals',\n",
       "  'Scope': None,\n",
       "  'Description': 'Corporate carbon offsets',\n",
       "  'Emissions': -70000.0},\n",
       " {'Fiscal Year': 2020,\n",
       "  'Category': 'Product life cycle emissions',\n",
       "  'Type': 'Gross emissions',\n",
       "  'Scope': 'Scope 3',\n",
       "  'Description': 'Manufacturing (purchased goods and services)',\n",
       "  'Emissions': 16100000.0},\n",
       " {'Fiscal Year': 2020,\n",
       "  'Category': 'Product life cycle emissions',\n",
       "  'Type': 'Gross emissions',\n",
       "  'Scope': 'Scope 3',\n",
       "  'Description': 'Product transportation (upstream and downstream)',\n",
       "  'Emissions': 1800000.0},\n",
       " {'Fiscal Year': 2020,\n",
       "  'Category': 'Product life cycle emissions',\n",
       "  'Type': 'Gross emissions',\n",
       "  'Scope': 'Scope 3',\n",
       "  'Description': 'Product use (use of sold products)',\n",
       "  'Emissions': 4300000.0},\n",
       " {'Fiscal Year': 2020,\n",
       "  'Category': 'Product life cycle emissions',\n",
       "  'Type': 'Gross emissions',\n",
       "  'Scope': 'Scope 3',\n",
       "  'Description': 'End-of-life processing',\n",
       "  'Emissions': 60000.0},\n",
       " {'Fiscal Year': 2020,\n",
       "  'Category': 'Product life cycle emissions',\n",
       "  'Type': 'Carbon removals',\n",
       "  'Scope': None,\n",
       "  'Description': 'Product carbon offsets',\n",
       "  'Emissions': 0.0},\n",
       " {'Fiscal Year': 2019,\n",
       "  'Category': 'Corporate emissions',\n",
       "  'Type': 'Gross emissions',\n",
       "  'Scope': 'Scope 1',\n",
       "  'Description': 'Natural gas, diesel, propane',\n",
       "  'Emissions': 40910.0},\n",
       " {'Fiscal Year': 2019,\n",
       "  'Category': 'Corporate emissions',\n",
       "  'Type': 'Gross emissions',\n",
       "  'Scope': 'Scope 1',\n",
       "  'Description': 'Fleet vehicles',\n",
       "  'Emissions': 6950.0},\n",
       " {'Fiscal Year': 2019,\n",
       "  'Category': 'Corporate emissions',\n",
       "  'Type': 'Gross emissions',\n",
       "  'Scope': 'Scope 1',\n",
       "  'Description': 'Other (R&D processes & refrigerant leaks)',\n",
       "  'Emissions': 4870.0},\n",
       " {'Fiscal Year': 2019,\n",
       "  'Category': 'Corporate emissions',\n",
       "  'Type': 'Gross emissions',\n",
       "  'Scope': 'Scope 2 (market-based)',\n",
       "  'Description': 'Electricity',\n",
       "  'Emissions': 0.0},\n",
       " {'Fiscal Year': 2019,\n",
       "  'Category': 'Corporate emissions',\n",
       "  'Type': 'Gross emissions',\n",
       "  'Scope': 'Scope 2 (market-based)',\n",
       "  'Description': 'Steam, heating, and cooling',\n",
       "  'Emissions': 0.0},\n",
       " {'Fiscal Year': 2019,\n",
       "  'Category': 'Corporate emissions',\n",
       "  'Type': 'Gross emissions',\n",
       "  'Scope': 'Scope 3',\n",
       "  'Description': 'Business travel',\n",
       "  'Emissions': 326000.0},\n",
       " {'Fiscal Year': 2019,\n",
       "  'Category': 'Corporate emissions',\n",
       "  'Type': 'Gross emissions',\n",
       "  'Scope': 'Scope 3',\n",
       "  'Description': 'Employee commute',\n",
       "  'Emissions': 195000.0},\n",
       " {'Fiscal Year': 2019,\n",
       "  'Category': 'Corporate emissions',\n",
       "  'Type': 'Gross emissions',\n",
       "  'Scope': 'Scope 3',\n",
       "  'Description': 'Upstream fuel',\n",
       "  'Emissions': 0.0},\n",
       " {'Fiscal Year': 2019,\n",
       "  'Category': 'Corporate emissions',\n",
       "  'Type': 'Gross emissions',\n",
       "  'Scope': 'Scope 3',\n",
       "  'Description': 'Work from home (market-based)',\n",
       "  'Emissions': 0.0},\n",
       " {'Fiscal Year': 2019,\n",
       "  'Category': 'Corporate emissions',\n",
       "  'Type': 'Gross emissions',\n",
       "  'Scope': 'Scope 3',\n",
       "  'Description': 'Transmission and distribution loss (market-based)',\n",
       "  'Emissions': None},\n",
       " {'Fiscal Year': 2019,\n",
       "  'Category': 'Corporate emissions',\n",
       "  'Type': 'Gross emissions',\n",
       "  'Scope': 'Scope 3',\n",
       "  'Description': 'Third-party cloud (market-based)',\n",
       "  'Emissions': 0.0},\n",
       " {'Fiscal Year': 2019,\n",
       "  'Category': 'Corporate emissions',\n",
       "  'Type': 'Carbon removals',\n",
       "  'Scope': None,\n",
       "  'Description': 'Corporate carbon offsets',\n",
       "  'Emissions': 0.0},\n",
       " {'Fiscal Year': 2019,\n",
       "  'Category': 'Product life cycle emissions',\n",
       "  'Type': 'Gross emissions',\n",
       "  'Scope': 'Scope 3',\n",
       "  'Description': 'Manufacturing (purchased goods and services)',\n",
       "  'Emissions': 18900000.0},\n",
       " {'Fiscal Year': 2019,\n",
       "  'Category': 'Product life cycle emissions',\n",
       "  'Type': 'Gross emissions',\n",
       "  'Scope': 'Scope 3',\n",
       "  'Description': 'Product transportation (upstream and downstream)',\n",
       "  'Emissions': 1400000.0},\n",
       " {'Fiscal Year': 2019,\n",
       "  'Category': 'Product life cycle emissions',\n",
       "  'Type': 'Gross emissions',\n",
       "  'Scope': 'Scope 3',\n",
       "  'Description': 'Product use (use of sold products)',\n",
       "  'Emissions': 4100000.0},\n",
       " {'Fiscal Year': 2019,\n",
       "  'Category': 'Product life cycle emissions',\n",
       "  'Type': 'Gross emissions',\n",
       "  'Scope': 'Scope 3',\n",
       "  'Description': 'End-of-life processing',\n",
       "  'Emissions': 60000.0},\n",
       " {'Fiscal Year': 2019,\n",
       "  'Category': 'Product life cycle emissions',\n",
       "  'Type': 'Carbon removals',\n",
       "  'Scope': None,\n",
       "  'Description': 'Product carbon offsets',\n",
       "  'Emissions': 0.0},\n",
       " {'Fiscal Year': 2018,\n",
       "  'Category': 'Corporate emissions',\n",
       "  'Type': 'Gross emissions',\n",
       "  'Scope': 'Scope 1',\n",
       "  'Description': 'Natural gas, diesel, propane',\n",
       "  'Emissions': 42840.0},\n",
       " {'Fiscal Year': 2018,\n",
       "  'Category': 'Corporate emissions',\n",
       "  'Type': 'Gross emissions',\n",
       "  'Scope': 'Scope 1',\n",
       "  'Description': 'Fleet vehicles',\n",
       "  'Emissions': 11110.0},\n",
       " {'Fiscal Year': 2018,\n",
       "  'Category': 'Corporate emissions',\n",
       "  'Type': 'Gross emissions',\n",
       "  'Scope': 'Scope 1',\n",
       "  'Description': 'Other (R&D processes & refrigerant leaks)',\n",
       "  'Emissions': 3490.0},\n",
       " {'Fiscal Year': 2018,\n",
       "  'Category': 'Corporate emissions',\n",
       "  'Type': 'Gross emissions',\n",
       "  'Scope': 'Scope 2 (market-based)',\n",
       "  'Description': 'Electricity',\n",
       "  'Emissions': 8730.0},\n",
       " {'Fiscal Year': 2018,\n",
       "  'Category': 'Corporate emissions',\n",
       "  'Type': 'Gross emissions',\n",
       "  'Scope': 'Scope 2 (market-based)',\n",
       "  'Description': 'Steam, heating, and cooling',\n",
       "  'Emissions': 0.0},\n",
       " {'Fiscal Year': 2018,\n",
       "  'Category': 'Corporate emissions',\n",
       "  'Type': 'Gross emissions',\n",
       "  'Scope': 'Scope 3',\n",
       "  'Description': 'Business travel',\n",
       "  'Emissions': 337000.0},\n",
       " {'Fiscal Year': 2018,\n",
       "  'Category': 'Corporate emissions',\n",
       "  'Type': 'Gross emissions',\n",
       "  'Scope': 'Scope 3',\n",
       "  'Description': 'Employee commute',\n",
       "  'Emissions': 183000.0},\n",
       " {'Fiscal Year': 2018,\n",
       "  'Category': 'Corporate emissions',\n",
       "  'Type': 'Gross emissions',\n",
       "  'Scope': 'Scope 3',\n",
       "  'Description': 'Upstream fuel',\n",
       "  'Emissions': 0.0},\n",
       " {'Fiscal Year': 2018,\n",
       "  'Category': 'Corporate emissions',\n",
       "  'Type': 'Gross emissions',\n",
       "  'Scope': 'Scope 3',\n",
       "  'Description': 'Work from home (market-based)',\n",
       "  'Emissions': 0.0},\n",
       " {'Fiscal Year': 2018,\n",
       "  'Category': 'Corporate emissions',\n",
       "  'Type': 'Gross emissions',\n",
       "  'Scope': 'Scope 3',\n",
       "  'Description': 'Transmission and distribution loss (market-based)',\n",
       "  'Emissions': None},\n",
       " {'Fiscal Year': 2018,\n",
       "  'Category': 'Corporate emissions',\n",
       "  'Type': 'Gross emissions',\n",
       "  'Scope': 'Scope 3',\n",
       "  'Description': 'Third-party cloud (market-based)',\n",
       "  'Emissions': 0.0},\n",
       " {'Fiscal Year': 2018,\n",
       "  'Category': 'Corporate emissions',\n",
       "  'Type': 'Carbon removals',\n",
       "  'Scope': None,\n",
       "  'Description': 'Corporate carbon offsets',\n",
       "  'Emissions': 0.0},\n",
       " {'Fiscal Year': 2018,\n",
       "  'Category': 'Product life cycle emissions',\n",
       "  'Type': 'Gross emissions',\n",
       "  'Scope': 'Scope 3',\n",
       "  'Description': 'Manufacturing (purchased goods and services)',\n",
       "  'Emissions': 18500000.0},\n",
       " {'Fiscal Year': 2018,\n",
       "  'Category': 'Product life cycle emissions',\n",
       "  'Type': 'Gross emissions',\n",
       "  'Scope': 'Scope 3',\n",
       "  'Description': 'Product transportation (upstream and downstream)',\n",
       "  'Emissions': 1300000.0},\n",
       " {'Fiscal Year': 2018,\n",
       "  'Category': 'Product life cycle emissions',\n",
       "  'Type': 'Gross emissions',\n",
       "  'Scope': 'Scope 3',\n",
       "  'Description': 'Product use (use of sold products)',\n",
       "  'Emissions': 4700000.0},\n",
       " {'Fiscal Year': 2018,\n",
       "  'Category': 'Product life cycle emissions',\n",
       "  'Type': 'Gross emissions',\n",
       "  'Scope': 'Scope 3',\n",
       "  'Description': 'End-of-life processing',\n",
       "  'Emissions': 50000.0},\n",
       " {'Fiscal Year': 2018,\n",
       "  'Category': 'Product life cycle emissions',\n",
       "  'Type': 'Carbon removals',\n",
       "  'Scope': None,\n",
       "  'Description': 'Product carbon offsets',\n",
       "  'Emissions': 0.0},\n",
       " {'Fiscal Year': 2017,\n",
       "  'Category': 'Corporate emissions',\n",
       "  'Type': 'Gross emissions',\n",
       "  'Scope': 'Scope 1',\n",
       "  'Description': 'Natural gas, diesel, propane',\n",
       "  'Emissions': 36210.0},\n",
       " {'Fiscal Year': 2017,\n",
       "  'Category': 'Corporate emissions',\n",
       "  'Type': 'Gross emissions',\n",
       "  'Scope': 'Scope 1',\n",
       "  'Description': 'Fleet vehicles',\n",
       "  'Emissions': 8300.0},\n",
       " {'Fiscal Year': 2017,\n",
       "  'Category': 'Corporate emissions',\n",
       "  'Type': 'Gross emissions',\n",
       "  'Scope': 'Scope 1',\n",
       "  'Description': 'Other (R&D processes & refrigerant leaks)',\n",
       "  'Emissions': 2540.0},\n",
       " {'Fiscal Year': 2017,\n",
       "  'Category': 'Corporate emissions',\n",
       "  'Type': 'Gross emissions',\n",
       "  'Scope': 'Scope 2 (market-based)',\n",
       "  'Description': 'Electricity',\n",
       "  'Emissions': 36250.0},\n",
       " {'Fiscal Year': 2017,\n",
       "  'Category': 'Corporate emissions',\n",
       "  'Type': 'Gross emissions',\n",
       "  'Scope': 'Scope 2 (market-based)',\n",
       "  'Description': 'Steam, heating, and cooling',\n",
       "  'Emissions': None},\n",
       " {'Fiscal Year': 2017,\n",
       "  'Category': 'Corporate emissions',\n",
       "  'Type': 'Gross emissions',\n",
       "  'Scope': 'Scope 3',\n",
       "  'Description': 'Business travel',\n",
       "  'Emissions': 121000.0},\n",
       " {'Fiscal Year': 2017,\n",
       "  'Category': 'Corporate emissions',\n",
       "  'Type': 'Gross emissions',\n",
       "  'Scope': 'Scope 3',\n",
       "  'Description': 'Employee commute',\n",
       "  'Emissions': 172000.0},\n",
       " {'Fiscal Year': 2017,\n",
       "  'Category': 'Corporate emissions',\n",
       "  'Type': 'Gross emissions',\n",
       "  'Scope': 'Scope 3',\n",
       "  'Description': 'Upstream fuel',\n",
       "  'Emissions': None},\n",
       " {'Fiscal Year': 2017,\n",
       "  'Category': 'Corporate emissions',\n",
       "  'Type': 'Gross emissions',\n",
       "  'Scope': 'Scope 3',\n",
       "  'Description': 'Work from home (market-based)',\n",
       "  'Emissions': None},\n",
       " {'Fiscal Year': 2017,\n",
       "  'Category': 'Corporate emissions',\n",
       "  'Type': 'Gross emissions',\n",
       "  'Scope': 'Scope 3',\n",
       "  'Description': 'Transmission and distribution loss (market-based)',\n",
       "  'Emissions': None},\n",
       " {'Fiscal Year': 2017,\n",
       "  'Category': 'Corporate emissions',\n",
       "  'Type': 'Gross emissions',\n",
       "  'Scope': 'Scope 3',\n",
       "  'Description': 'Third-party cloud (market-based)',\n",
       "  'Emissions': None},\n",
       " {'Fiscal Year': 2017,\n",
       "  'Category': 'Corporate emissions',\n",
       "  'Type': 'Carbon removals',\n",
       "  'Scope': None,\n",
       "  'Description': 'Corporate carbon offsets',\n",
       "  'Emissions': None},\n",
       " {'Fiscal Year': 2017,\n",
       "  'Category': 'Product life cycle emissions',\n",
       "  'Type': 'Gross emissions',\n",
       "  'Scope': 'Scope 3',\n",
       "  'Description': 'Manufacturing (purchased goods and services)',\n",
       "  'Emissions': 21100000.0},\n",
       " {'Fiscal Year': 2017,\n",
       "  'Category': 'Product life cycle emissions',\n",
       "  'Type': 'Gross emissions',\n",
       "  'Scope': 'Scope 3',\n",
       "  'Description': 'Product transportation (upstream and downstream)',\n",
       "  'Emissions': 1200000.0},\n",
       " {'Fiscal Year': 2017,\n",
       "  'Category': 'Product life cycle emissions',\n",
       "  'Type': 'Gross emissions',\n",
       "  'Scope': 'Scope 3',\n",
       "  'Description': 'Product use (use of sold products)',\n",
       "  'Emissions': 4700000.0},\n",
       " {'Fiscal Year': 2017,\n",
       "  'Category': 'Product life cycle emissions',\n",
       "  'Type': 'Gross emissions',\n",
       "  'Scope': 'Scope 3',\n",
       "  'Description': 'End-of-life processing',\n",
       "  'Emissions': 40000.0},\n",
       " {'Fiscal Year': 2017,\n",
       "  'Category': 'Product life cycle emissions',\n",
       "  'Type': 'Carbon removals',\n",
       "  'Scope': None,\n",
       "  'Description': 'Product carbon offsets',\n",
       "  'Emissions': None},\n",
       " {'Fiscal Year': 2016,\n",
       "  'Category': 'Corporate emissions',\n",
       "  'Type': 'Gross emissions',\n",
       "  'Scope': 'Scope 1',\n",
       "  'Description': 'Natural gas, diesel, propane',\n",
       "  'Emissions': 27000.0},\n",
       " {'Fiscal Year': 2016,\n",
       "  'Category': 'Corporate emissions',\n",
       "  'Type': 'Gross emissions',\n",
       "  'Scope': 'Scope 1',\n",
       "  'Description': 'Fleet vehicles',\n",
       "  'Emissions': 7370.0},\n",
       " {'Fiscal Year': 2016,\n",
       "  'Category': 'Corporate emissions',\n",
       "  'Type': 'Gross emissions',\n",
       "  'Scope': 'Scope 1',\n",
       "  'Description': 'Other (R&D processes & refrigerant leaks)',\n",
       "  'Emissions': None},\n",
       " {'Fiscal Year': 2016,\n",
       "  'Category': 'Corporate emissions',\n",
       "  'Type': 'Gross emissions',\n",
       "  'Scope': 'Scope 2 (market-based)',\n",
       "  'Description': 'Electricity',\n",
       "  'Emissions': 41000.0},\n",
       " {'Fiscal Year': 2016,\n",
       "  'Category': 'Corporate emissions',\n",
       "  'Type': 'Gross emissions',\n",
       "  'Scope': 'Scope 2 (market-based)',\n",
       "  'Description': 'Steam, heating, and cooling',\n",
       "  'Emissions': None},\n",
       " {'Fiscal Year': 2016,\n",
       "  'Category': 'Corporate emissions',\n",
       "  'Type': 'Gross emissions',\n",
       "  'Scope': 'Scope 3',\n",
       "  'Description': 'Business travel',\n",
       "  'Emissions': 118000.0},\n",
       " {'Fiscal Year': 2016,\n",
       "  'Category': 'Corporate emissions',\n",
       "  'Type': 'Gross emissions',\n",
       "  'Scope': 'Scope 3',\n",
       "  'Description': 'Employee commute',\n",
       "  'Emissions': 186000.0},\n",
       " {'Fiscal Year': 2016,\n",
       "  'Category': 'Corporate emissions',\n",
       "  'Type': 'Gross emissions',\n",
       "  'Scope': 'Scope 3',\n",
       "  'Description': 'Upstream fuel',\n",
       "  'Emissions': None},\n",
       " {'Fiscal Year': 2016,\n",
       "  'Category': 'Corporate emissions',\n",
       "  'Type': 'Gross emissions',\n",
       "  'Scope': 'Scope 3',\n",
       "  'Description': 'Work from home (market-based)',\n",
       "  'Emissions': None},\n",
       " {'Fiscal Year': 2016,\n",
       "  'Category': 'Corporate emissions',\n",
       "  'Type': 'Gross emissions',\n",
       "  'Scope': 'Scope 3',\n",
       "  'Description': 'Transmission and distribution loss (market-based)',\n",
       "  'Emissions': None},\n",
       " {'Fiscal Year': 2016,\n",
       "  'Category': 'Corporate emissions',\n",
       "  'Type': 'Gross emissions',\n",
       "  'Scope': 'Scope 3',\n",
       "  'Description': 'Third-party cloud (market-based)',\n",
       "  'Emissions': None},\n",
       " {'Fiscal Year': 2016,\n",
       "  'Category': 'Corporate emissions',\n",
       "  'Type': 'Carbon removals',\n",
       "  'Scope': None,\n",
       "  'Description': 'Corporate carbon offsets',\n",
       "  'Emissions': None},\n",
       " {'Fiscal Year': 2016,\n",
       "  'Category': 'Product life cycle emissions',\n",
       "  'Type': 'Gross emissions',\n",
       "  'Scope': 'Scope 3',\n",
       "  'Description': 'Manufacturing (purchased goods and services)',\n",
       "  'Emissions': 22800000.0},\n",
       " {'Fiscal Year': 2016,\n",
       "  'Category': 'Product life cycle emissions',\n",
       "  'Type': 'Gross emissions',\n",
       "  'Scope': 'Scope 3',\n",
       "  'Description': 'Product transportation (upstream and downstream)',\n",
       "  'Emissions': 1200000.0},\n",
       " {'Fiscal Year': 2016,\n",
       "  'Category': 'Product life cycle emissions',\n",
       "  'Type': 'Gross emissions',\n",
       "  'Scope': 'Scope 3',\n",
       "  'Description': 'Product use (use of sold products)',\n",
       "  'Emissions': 4900000.0},\n",
       " {'Fiscal Year': 2016,\n",
       "  'Category': 'Product life cycle emissions',\n",
       "  'Type': 'Gross emissions',\n",
       "  'Scope': 'Scope 3',\n",
       "  'Description': 'End-of-life processing',\n",
       "  'Emissions': 300000.0},\n",
       " {'Fiscal Year': 2016,\n",
       "  'Category': 'Product life cycle emissions',\n",
       "  'Type': 'Carbon removals',\n",
       "  'Scope': None,\n",
       "  'Description': 'Product carbon offsets',\n",
       "  'Emissions': None},\n",
       " {'Fiscal Year': 2015,\n",
       "  'Category': 'Corporate emissions',\n",
       "  'Type': 'Gross emissions',\n",
       "  'Scope': 'Scope 1',\n",
       "  'Description': 'Natural gas, diesel, propane',\n",
       "  'Emissions': 19360.0},\n",
       " {'Fiscal Year': 2015,\n",
       "  'Category': 'Corporate emissions',\n",
       "  'Type': 'Gross emissions',\n",
       "  'Scope': 'Scope 1',\n",
       "  'Description': 'Fleet vehicles',\n",
       "  'Emissions': 8740.0},\n",
       " {'Fiscal Year': 2015,\n",
       "  'Category': 'Corporate emissions',\n",
       "  'Type': 'Gross emissions',\n",
       "  'Scope': 'Scope 1',\n",
       "  'Description': 'Other (R&D processes & refrigerant leaks)',\n",
       "  'Emissions': None},\n",
       " {'Fiscal Year': 2015,\n",
       "  'Category': 'Corporate emissions',\n",
       "  'Type': 'Gross emissions',\n",
       "  'Scope': 'Scope 2 (market-based)',\n",
       "  'Description': 'Electricity',\n",
       "  'Emissions': 42460.0},\n",
       " {'Fiscal Year': 2015,\n",
       "  'Category': 'Corporate emissions',\n",
       "  'Type': 'Gross emissions',\n",
       "  'Scope': 'Scope 2 (market-based)',\n",
       "  'Description': 'Steam, heating, and cooling',\n",
       "  'Emissions': None},\n",
       " {'Fiscal Year': 2015,\n",
       "  'Category': 'Corporate emissions',\n",
       "  'Type': 'Gross emissions',\n",
       "  'Scope': 'Scope 3',\n",
       "  'Description': 'Business travel',\n",
       "  'Emissions': 139940.0},\n",
       " {'Fiscal Year': 2015,\n",
       "  'Category': 'Corporate emissions',\n",
       "  'Type': 'Gross emissions',\n",
       "  'Scope': 'Scope 3',\n",
       "  'Description': 'Employee commute',\n",
       "  'Emissions': 172970.0},\n",
       " {'Fiscal Year': 2015,\n",
       "  'Category': 'Corporate emissions',\n",
       "  'Type': 'Gross emissions',\n",
       "  'Scope': 'Scope 3',\n",
       "  'Description': 'Upstream fuel',\n",
       "  'Emissions': None},\n",
       " {'Fiscal Year': 2015,\n",
       "  'Category': 'Corporate emissions',\n",
       "  'Type': 'Gross emissions',\n",
       "  'Scope': 'Scope 3',\n",
       "  'Description': 'Work from home (market-based)',\n",
       "  'Emissions': None},\n",
       " {'Fiscal Year': 2015,\n",
       "  'Category': 'Corporate emissions',\n",
       "  'Type': 'Gross emissions',\n",
       "  'Scope': 'Scope 3',\n",
       "  'Description': 'Transmission and distribution loss (market-based)',\n",
       "  'Emissions': None},\n",
       " {'Fiscal Year': 2015,\n",
       "  'Category': 'Corporate emissions',\n",
       "  'Type': 'Gross emissions',\n",
       "  'Scope': 'Scope 3',\n",
       "  'Description': 'Third-party cloud (market-based)',\n",
       "  'Emissions': None},\n",
       " {'Fiscal Year': 2015,\n",
       "  'Category': 'Corporate emissions',\n",
       "  'Type': 'Carbon removals',\n",
       "  'Scope': None,\n",
       "  'Description': 'Corporate carbon offsets',\n",
       "  'Emissions': None},\n",
       " {'Fiscal Year': 2015,\n",
       "  'Category': 'Product life cycle emissions',\n",
       "  'Type': 'Gross emissions',\n",
       "  'Scope': 'Scope 3',\n",
       "  'Description': 'Manufacturing (purchased goods and services)',\n",
       "  'Emissions': 29600000.0},\n",
       " {'Fiscal Year': 2015,\n",
       "  'Category': 'Product life cycle emissions',\n",
       "  'Type': 'Gross emissions',\n",
       "  'Scope': 'Scope 3',\n",
       "  'Description': 'Product transportation (upstream and downstream)',\n",
       "  'Emissions': 1300000.0},\n",
       " {'Fiscal Year': 2015,\n",
       "  'Category': 'Product life cycle emissions',\n",
       "  'Type': 'Gross emissions',\n",
       "  'Scope': 'Scope 3',\n",
       "  'Description': 'Product use (use of sold products)',\n",
       "  'Emissions': 6600000.0},\n",
       " {'Fiscal Year': 2015,\n",
       "  'Category': 'Product life cycle emissions',\n",
       "  'Type': 'Gross emissions',\n",
       "  'Scope': 'Scope 3',\n",
       "  'Description': 'End-of-life processing',\n",
       "  'Emissions': 500000.0},\n",
       " {'Fiscal Year': 2015,\n",
       "  'Category': 'Product life cycle emissions',\n",
       "  'Type': 'Carbon removals',\n",
       "  'Scope': None,\n",
       "  'Description': 'Product carbon offsets',\n",
       "  'Emissions': None}]"
      ]
     },
     "execution_count": 70,
     "metadata": {},
     "output_type": "execute_result"
    }
   ],
   "source": [
    "json.loads(greenhouse_gas_emissions_json)"
   ]
  },
  {
   "cell_type": "code",
   "execution_count": 79,
   "id": "117086e3-a299-48f7-9620-6a0784319290",
   "metadata": {},
   "outputs": [],
   "source": [
    "with open(r\"C:\\Users\\pryns\\OneDrive\\Desktop\\Apple_Emissions\\apple_emissions\\greenhouse_gas_emissions.json\",\"w\") as f:\n",
    "    for i in json.loads(greenhouse_gas_emissions_json):\n",
    "        f.write(json.dumps(i))"
   ]
  },
  {
   "cell_type": "markdown",
   "id": "96abdb0c-6348-4866-a955-f738b6c74422",
   "metadata": {},
   "source": [
    "* file 2"
   ]
  },
  {
   "cell_type": "code",
   "execution_count": 80,
   "id": "b0047e0d-7ba6-4dfb-8987-ad4efee3dded",
   "metadata": {},
   "outputs": [],
   "source": [
    "carbon_footprint_by_products = pd.read_csv(r\"C:\\Users\\pryns\\OneDrive\\Desktop\\Apple_Emissions\\apple_emissions\\carbon_footprint_by_products.csv\")\n",
    "carbon_footprint_by_products_json = carbon_footprint_by_products.to_json(orient = \"records\")"
   ]
  },
  {
   "cell_type": "code",
   "execution_count": 84,
   "id": "ce246682-4d9d-41eb-9ff4-2b827cb89b40",
   "metadata": {
    "scrolled": true
   },
   "outputs": [],
   "source": [
    "with open(r\"C:\\Users\\pryns\\OneDrive\\Desktop\\Apple_Emissions\\apple_emissions\\carbon_footprint_by_products.json\",\"w\") as f:\n",
    "    for i in json.loads(carbon_footprint_by_products_json):\n",
    "        f.write(json.dumps(i))"
   ]
  },
  {
   "cell_type": "markdown",
   "id": "e4ef9968-7fb7-47f5-88fe-b7cb56518ff9",
   "metadata": {},
   "source": [
    "* file 3"
   ]
  },
  {
   "cell_type": "code",
   "execution_count": 85,
   "id": "2c7af12a-718b-4bbd-97bb-7b24d5bea47a",
   "metadata": {},
   "outputs": [],
   "source": [
    "normalizing_factors = pd.read_csv(r\"C:\\Users\\pryns\\OneDrive\\Desktop\\Apple_Emissions\\apple_emissions\\normalizing_factors.csv\")\n",
    "normalizing_factors_json = normalizing_factors.to_json(orient = \"records\")"
   ]
  },
  {
   "cell_type": "code",
   "execution_count": 86,
   "id": "9170edb2-9ff0-41ad-9457-fb97308f0961",
   "metadata": {},
   "outputs": [],
   "source": [
    "with open(r\"C:\\Users\\pryns\\OneDrive\\Desktop\\Apple_Emissions\\apple_emissions\\normalizing_factors.json\",\"w\") as f:\n",
    "    for i in json.loads(normalizing_factors_json):\n",
    "        f.write(json.dumps(i))"
   ]
  },
  {
   "cell_type": "code",
   "execution_count": null,
   "id": "37c10ea9-4119-4f66-89c5-5c92255482e8",
   "metadata": {},
   "outputs": [],
   "source": []
  },
  {
   "cell_type": "code",
   "execution_count": null,
   "id": "c9ea2a3f-3b9b-4832-a2b6-19ab6ebcf531",
   "metadata": {},
   "outputs": [],
   "source": []
  }
 ],
 "metadata": {
  "kernelspec": {
   "display_name": "general",
   "language": "python",
   "name": "general"
  },
  "language_info": {
   "codemirror_mode": {
    "name": "ipython",
    "version": 3
   },
   "file_extension": ".py",
   "mimetype": "text/x-python",
   "name": "python",
   "nbconvert_exporter": "python",
   "pygments_lexer": "ipython3",
   "version": "3.11.4"
  }
 },
 "nbformat": 4,
 "nbformat_minor": 5
}
